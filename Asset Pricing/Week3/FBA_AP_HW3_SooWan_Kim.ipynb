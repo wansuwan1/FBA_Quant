{
 "cells": [
  {
   "attachments": {},
   "cell_type": "markdown",
   "metadata": {},
   "source": [
    "# FBA QUANT AP HW3 "
   ]
  },
  {
   "attachments": {},
   "cell_type": "markdown",
   "metadata": {},
   "source": [
    "Kim Soo Wan(hse07088@snu.ac.kr)"
   ]
  },
  {
   "cell_type": "code",
   "execution_count": null,
   "metadata": {},
   "outputs": [],
   "source": [
    "import numpy as np\n",
    "import matplotlib.pyplot as plt\n",
    "import yfinance as yf\n",
    "import pandas as pd\n",
    "import statsmodels.api as sm\n",
    "import matplotlib.cm as cm\n",
    "import matplotlib as mpl"
   ]
  },
  {
   "attachments": {},
   "cell_type": "markdown",
   "metadata": {},
   "source": [
    "Problem 2.<br/>\n",
    "A pension fund manager analyzes the relationship between a specific asset and the market. First, he wants to show that the monthly returns of the biggest company are highly correlated with monthly market returns. (Let a risk-free rate be the interest rate of a Treasury bill with a 3-month maturity. You can download the data on FRED: https://fred.stlouisfed.org/series/TB3MS)<br/>\n",
    "a.\tDownload the monthly excess returns(monthly return – risk-free rate) of Apple Inc. and S&P 500 from Jan 01, 2013, to Jan 01, 2023, using the yfinance library in python. And then, draw the scatter plot with Apple's monthly returns as dependent variables (y-axis) and the S&P 500 monthly returns as independent variables(x-axis)."
   ]
  },
  {
   "cell_type": "code",
   "execution_count": 104,
   "metadata": {},
   "outputs": [
    {
     "data": {
      "text/html": [
       "<div>\n",
       "<style scoped>\n",
       "    .dataframe tbody tr th:only-of-type {\n",
       "        vertical-align: middle;\n",
       "    }\n",
       "\n",
       "    .dataframe tbody tr th {\n",
       "        vertical-align: top;\n",
       "    }\n",
       "\n",
       "    .dataframe thead th {\n",
       "        text-align: right;\n",
       "    }\n",
       "</style>\n",
       "<table border=\"1\" class=\"dataframe\">\n",
       "  <thead>\n",
       "    <tr style=\"text-align: right;\">\n",
       "      <th></th>\n",
       "      <th>DATE</th>\n",
       "      <th>TB3MS</th>\n",
       "    </tr>\n",
       "  </thead>\n",
       "  <tbody>\n",
       "    <tr>\n",
       "      <th>948</th>\n",
       "      <td>2013-01-01</td>\n",
       "      <td>0.07</td>\n",
       "    </tr>\n",
       "    <tr>\n",
       "      <th>949</th>\n",
       "      <td>2013-02-01</td>\n",
       "      <td>0.10</td>\n",
       "    </tr>\n",
       "    <tr>\n",
       "      <th>950</th>\n",
       "      <td>2013-03-01</td>\n",
       "      <td>0.09</td>\n",
       "    </tr>\n",
       "    <tr>\n",
       "      <th>951</th>\n",
       "      <td>2013-04-01</td>\n",
       "      <td>0.06</td>\n",
       "    </tr>\n",
       "    <tr>\n",
       "      <th>952</th>\n",
       "      <td>2013-05-01</td>\n",
       "      <td>0.04</td>\n",
       "    </tr>\n",
       "    <tr>\n",
       "      <th>...</th>\n",
       "      <td>...</td>\n",
       "      <td>...</td>\n",
       "    </tr>\n",
       "    <tr>\n",
       "      <th>1063</th>\n",
       "      <td>2022-08-01</td>\n",
       "      <td>2.63</td>\n",
       "    </tr>\n",
       "    <tr>\n",
       "      <th>1064</th>\n",
       "      <td>2022-09-01</td>\n",
       "      <td>3.13</td>\n",
       "    </tr>\n",
       "    <tr>\n",
       "      <th>1065</th>\n",
       "      <td>2022-10-01</td>\n",
       "      <td>3.72</td>\n",
       "    </tr>\n",
       "    <tr>\n",
       "      <th>1066</th>\n",
       "      <td>2022-11-01</td>\n",
       "      <td>4.15</td>\n",
       "    </tr>\n",
       "    <tr>\n",
       "      <th>1067</th>\n",
       "      <td>2022-12-01</td>\n",
       "      <td>4.25</td>\n",
       "    </tr>\n",
       "  </tbody>\n",
       "</table>\n",
       "<p>120 rows × 2 columns</p>\n",
       "</div>"
      ],
      "text/plain": [
       "            DATE  TB3MS\n",
       "948   2013-01-01   0.07\n",
       "949   2013-02-01   0.10\n",
       "950   2013-03-01   0.09\n",
       "951   2013-04-01   0.06\n",
       "952   2013-05-01   0.04\n",
       "...          ...    ...\n",
       "1063  2022-08-01   2.63\n",
       "1064  2022-09-01   3.13\n",
       "1065  2022-10-01   3.72\n",
       "1066  2022-11-01   4.15\n",
       "1067  2022-12-01   4.25\n",
       "\n",
       "[120 rows x 2 columns]"
      ]
     },
     "execution_count": 104,
     "metadata": {},
     "output_type": "execute_result"
    }
   ],
   "source": [
    "TB3M = pd.read_csv('data/TB3MS.csv') # interest rate of Treasury bill with a 3-month maturity as risk free rate\n",
    "TB3M=TB3M.loc[TB3M[\"DATE\"]>=\"2013\"]\n",
    "TB3M=TB3M.loc[TB3M[\"DATE\"]<=\"2023\"]\n",
    "TB3M"
   ]
  },
  {
   "cell_type": "code",
   "execution_count": 105,
   "metadata": {},
   "outputs": [],
   "source": [
    "def getExcessReturn(data:pd.DataFrame):\n",
    "    return np.array(data[\"Open\"].pct_change().dropna())-np.array(TB3M[1:][\"TB3MS\"])"
   ]
  },
  {
   "cell_type": "code",
   "execution_count": 106,
   "metadata": {},
   "outputs": [
    {
     "data": {
      "text/plain": [
       "array([-2.71012479e-01, -1.30419946e-01, -5.10961172e-02, -3.42066052e-02,\n",
       "       -2.91805950e-02, -1.46582840e-01,  9.17639814e-02,  6.90968900e-02,\n",
       "       -7.97105117e-02,  2.52451886e-02,  1.06235459e-03, -4.41576124e-02,\n",
       "       -1.45504832e-01, -2.36256034e-03, -2.60302057e-03,  7.08627550e-02,\n",
       "        3.68598330e-02,  2.62024061e-03, -1.52437419e-02,  7.13871251e-02,\n",
       "       -4.39669447e-02,  5.58525663e-02,  7.26167938e-02, -9.24525903e-02,\n",
       "        3.97899193e-02,  6.91959018e-02, -5.42746438e-02, -9.74535577e-03,\n",
       "        1.74641767e-02, -5.59441469e-02, -1.12553281e-01, -1.09312150e-01,\n",
       "       -2.98045752e-02, -1.24547360e-02, -2.42762316e-01, -3.95915760e-01,\n",
       "       -3.69838016e-01, -2.72275750e-01, -1.16021505e-01, -4.06146466e-01,\n",
       "       -2.09843594e-01, -3.35649573e-01, -2.06586907e-01, -2.67923752e-01,\n",
       "       -2.68100763e-01, -4.43345532e-01, -5.32239829e-01, -4.60801809e-01,\n",
       "       -4.23022872e-01, -6.49801787e-01, -7.57792432e-01, -8.80327911e-01,\n",
       "       -9.20025966e-01, -1.12412267e+00, -9.80872471e-01, -9.20361247e-01,\n",
       "       -1.13395654e+00, -1.12880664e+00, -1.31593287e+00, -1.40876412e+00,\n",
       "       -1.58757189e+00, -1.62763082e+00, -1.82665188e+00, -1.86138008e+00,\n",
       "       -1.76596425e+00, -1.98218190e+00, -1.94671196e+00, -1.97893774e+00,\n",
       "       -2.25201389e+00, -2.36904366e+00, -2.52497092e+00, -2.53030568e+00,\n",
       "       -2.31207400e+00, -2.35168027e+00, -2.28039003e+00, -2.25482157e+00,\n",
       "       -2.33010941e+00, -1.94299552e+00, -1.89718720e+00, -1.92125597e+00,\n",
       "       -1.55970298e+00, -1.43127835e+00, -1.46573377e+00, -1.41160764e+00,\n",
       "       -1.49279239e+00, -3.60161123e-01, -2.66753557e-01,  3.12575430e-02,\n",
       "       -4.69514602e-02,  1.90794211e-02,  8.53636207e-02,  1.19199210e-01,\n",
       "       -2.13889628e-01, -1.62509356e-01,  2.09776089e-02,  2.33799584e-02,\n",
       "       -3.82774338e-02, -1.03383726e-01, -2.07274145e-02,  4.77665590e-02,\n",
       "       -9.11020971e-02,  4.21010228e-02,  2.14494293e-02,  5.77059022e-03,\n",
       "       -1.21517507e-01, -3.50739009e-05,  6.57427454e-02, -8.82016521e-02,\n",
       "       -3.51481020e-01, -4.92296830e-01, -7.03351588e-01, -1.07952289e+00,\n",
       "       -1.53205094e+00, -2.32246159e+00, -2.44645093e+00, -3.15578993e+00,\n",
       "       -3.83765815e+00, -4.02793952e+00, -4.29271424e+00])"
      ]
     },
     "execution_count": 106,
     "metadata": {},
     "output_type": "execute_result"
    }
   ],
   "source": [
    "aapl = yf.Ticker(\"AAPL\").history(start=\"2013-1-1\", end=\"2023-1-1\", auto_adjust=True, interval=\"1mo\")\n",
    "aaplExcessReturn = getExcessReturn(aapl)\n",
    "aaplExcessReturn"
   ]
  },
  {
   "cell_type": "code",
   "execution_count": 107,
   "metadata": {},
   "outputs": [
    {
     "data": {
      "text/plain": [
       "array([-4.95719035e-02, -7.89393512e-02, -2.40188039e-02, -2.19204972e-02,\n",
       "       -2.86173133e-02, -5.34398466e-02,  9.47260694e-03, -5.16499694e-02,\n",
       "       -2.16005475e-02, -2.46543854e-02, -4.27923472e-02, -1.82403280e-02,\n",
       "       -8.42279112e-02, -7.92851340e-03, -2.12364311e-02, -2.44342174e-02,\n",
       "       -1.90489335e-02, -1.00298128e-02, -4.65571804e-02,  1.84857993e-02,\n",
       "       -3.62818693e-02,  3.72378613e-03, -6.42957409e-03, -3.33305225e-02,\n",
       "       -5.02248100e-02,  2.43704939e-02, -3.78603279e-02, -1.04480003e-02,\n",
       "       -9.81497813e-03, -4.97472754e-02, -5.18626075e-02, -8.38634658e-02,\n",
       "       -4.56028619e-02, -3.60732512e-02, -2.28957149e-01, -2.81474549e-01,\n",
       "       -3.59681097e-01, -2.89922546e-01, -1.68293960e-01, -2.64870319e-01,\n",
       "       -2.57049918e-01, -2.97421060e-01, -2.64841421e-01, -2.90837413e-01,\n",
       "       -3.33223830e-01, -4.66471677e-01, -4.76415810e-01, -4.86638101e-01,\n",
       "       -5.04890535e-01, -6.98636592e-01, -8.07474296e-01, -8.78926272e-01,\n",
       "       -9.68633074e-01, -1.06348416e+00, -9.91199969e-01, -1.03108198e+00,\n",
       "       -1.05109455e+00, -1.20540456e+00, -1.29604138e+00, -1.39539568e+00,\n",
       "       -1.52054645e+00, -1.73594240e+00, -1.79011543e+00, -1.85638876e+00,\n",
       "       -1.87134274e+00, -1.96505756e+00, -1.98703434e+00, -2.10313524e+00,\n",
       "       -2.23987557e+00, -2.40132238e+00, -2.34316733e+00, -2.48235981e+00,\n",
       "       -2.29901746e+00, -2.36451201e+00, -2.36198501e+00, -2.31359647e+00,\n",
       "       -2.23801409e+00, -2.02008814e+00, -1.94700137e+00, -1.91392698e+00,\n",
       "       -1.62432806e+00, -1.51753452e+00, -1.50947274e+00, -1.48793110e+00,\n",
       "       -1.52277686e+00, -3.70781012e-01, -3.00105957e-01,  1.85180611e-02,\n",
       "       -1.00855834e-01, -1.07905642e-01, -4.12927273e-02, -4.33447078e-02,\n",
       "       -1.34660558e-01, -1.16483640e-01,  1.60828139e-02, -4.74316456e-02,\n",
       "       -4.88827753e-02, -1.59470026e-04,  1.91072552e-02,  2.98900389e-02,\n",
       "       -3.41459551e-02, -3.00285637e-02, -2.53228212e-02, -1.23295169e-02,\n",
       "       -9.67319505e-02,  1.79752315e-02, -6.16918099e-02, -1.11910238e-01,\n",
       "       -3.84115263e-01, -4.74611632e-01, -7.19391704e-01, -1.07023813e+00,\n",
       "       -1.48535906e+00, -2.31886731e+00, -2.54235655e+00, -3.17271247e+00,\n",
       "       -3.80305115e+00, -4.06910587e+00, -4.20249620e+00])"
      ]
     },
     "execution_count": 107,
     "metadata": {},
     "output_type": "execute_result"
    }
   ],
   "source": [
    "sp500 = yf.Ticker(\"^GSPC\").history(start=\"2013-1-1\", end=\"2023-1-1\", auto_adjust=True, interval=\"1mO\")\n",
    "sp500ExcessReturn = getExcessReturn(sp500)\n",
    "sp500ExcessReturn"
   ]
  },
  {
   "cell_type": "code",
   "execution_count": 108,
   "metadata": {},
   "outputs": [
    {
     "data": {
      "image/png": "[encoded data removed]",
      "text/plain": [
       "<Figure size 432x288 with 1 Axes>"
      ]
     },
     "metadata": {
      "needs_background": "light"
     },
     "output_type": "display_data"
    }
   ],
   "source": [
    "plt.plot(pd.Series(aaplExcessReturn, index=aapl.index[:-1]), label=\"AAPL Excess Return(%)\")\n",
    "plt.plot(pd.Series(sp500ExcessReturn, index=aapl.index[:-1]), label=\"S&P500 Excess Return(%)\")\n",
    "plt.legend()\n",
    "plt.show()"
   ]
  },
  {
   "cell_type": "code",
   "execution_count": 109,
   "metadata": {},
   "outputs": [
    {
     "data": {
      "image/png": "[encoded data removed]",
      "text/plain": [
       "<Figure size 432x288 with 1 Axes>"
      ]
     },
     "metadata": {
      "needs_background": "light"
     },
     "output_type": "display_data"
    }
   ],
   "source": [
    "\n",
    "plt.scatter(sp500ExcessReturn,aaplExcessReturn)\n",
    "plt.xlabel('S&P500 Excess Return(%)')\n",
    "plt.ylabel('AAPL Excess Return(%)')\n",
    "plt.show()"
   ]
  },
  {
   "attachments": {},
   "cell_type": "markdown",
   "metadata": {},
   "source": [
    "b. Calculate the simple linear regression coefficient (alpha, beta) using the above data $$r_{apple}-r_f=α+β(r_{snp500}-r_f )+ϵ$$"
   ]
  },
  {
   "cell_type": "code",
   "execution_count": 110,
   "metadata": {},
   "outputs": [
    {
     "name": "stdout",
     "output_type": "stream",
     "text": [
      "                            OLS Regression Results                            \n",
      "==============================================================================\n",
      "Dep. Variable:                      y   R-squared:                       0.996\n",
      "Model:                            OLS   Adj. R-squared:                  0.996\n",
      "Method:                 Least Squares   F-statistic:                 2.807e+04\n",
      "Date:                Sat, 18 Feb 2023   Prob (F-statistic):          3.40e-141\n",
      "Time:                        23:00:40   Log-Likelihood:                 157.84\n",
      "No. Observations:                 119   AIC:                            -311.7\n",
      "Df Residuals:                     117   BIC:                            -306.1\n",
      "Df Model:                           1                                         \n",
      "Covariance Type:            nonrobust                                         \n",
      "==============================================================================\n",
      "                 coef    std err          t      P>|t|      [0.025      0.975]\n",
      "------------------------------------------------------------------------------\n",
      "const          0.0133      0.008      1.761      0.081      -0.002       0.028\n",
      "x1             1.0017      0.006    167.530      0.000       0.990       1.014\n",
      "==============================================================================\n",
      "Omnibus:                       10.178   Durbin-Watson:                   1.825\n",
      "Prob(Omnibus):                  0.006   Jarque-Bera (JB):               11.268\n",
      "Skew:                          -0.555   Prob(JB):                      0.00357\n",
      "Kurtosis:                       4.020   Cond. No.                         2.14\n",
      "==============================================================================\n",
      "\n",
      "Notes:\n",
      "[1] Standard Errors assume that the covariance matrix of the errors is correctly specified.\n"
     ]
    }
   ],
   "source": [
    "model = sm.OLS(aaplExcessReturn, sm.add_constant(sp500ExcessReturn)).fit()\n",
    "alpha, beta = model.params\n",
    "print(model.summary())"
   ]
  },
  {
   "cell_type": "code",
   "execution_count": 111,
   "metadata": {},
   "outputs": [
    {
     "data": {
      "image/png": "[encoded data removed]",
      "text/plain": [
       "<Figure size 432x288 with 1 Axes>"
      ]
     },
     "metadata": {
      "needs_background": "light"
     },
     "output_type": "display_data"
    }
   ],
   "source": [
    "plt.scatter(sp500ExcessReturn,aaplExcessReturn)\n",
    "plt.axline(xy1=(0, alpha), slope=beta, label=f'$y = {alpha:.6f}x + {beta:.6f}$', color='orange')\n",
    "plt.xlabel('S&P500 Excess Return(%)')\n",
    "plt.ylabel('AAPL Excess Return(%)')\n",
    "plt.legend()\n",
    "plt.show()"
   ]
  },
  {
   "attachments": {},
   "cell_type": "markdown",
   "metadata": {},
   "source": [
    "c. Test hypothesis $H_0:β=0,H_1:β>0$ for gradient β at a significance level of 5%.<br/>\n",
    "Since p-value of beta is .000 we may reject the null hypothesis( $H_0$ ) that beta is 0 at a level of significance 5%."
   ]
  },
  {
   "attachments": {},
   "cell_type": "markdown",
   "metadata": {},
   "source": [
    "Problem 3. <br/>\n",
    "A Student majoring in finance wants to form an efficient frontier of a portfolio of the top five companies in market capitalization within the S&P 500. <br/>\n",
    "a. Download the daily returns for the top five current market cap companies from Jan 1, 2018, to Jan 1, 2023."
   ]
  },
  {
   "cell_type": "code",
   "execution_count": 112,
   "metadata": {},
   "outputs": [
    {
     "name": "stdout",
     "output_type": "stream",
     "text": [
      "[*********************100%***********************]  1 of 1 completed\n",
      "[*********************100%***********************]  1 of 1 completed\n",
      "[*********************100%***********************]  1 of 1 completed\n",
      "[*********************100%***********************]  1 of 1 completed\n",
      "[*********************100%***********************]  1 of 1 completed\n"
     ]
    },
    {
     "data": {
      "text/html": [
       "<div>\n",
       "<style scoped>\n",
       "    .dataframe tbody tr th:only-of-type {\n",
       "        vertical-align: middle;\n",
       "    }\n",
       "\n",
       "    .dataframe tbody tr th {\n",
       "        vertical-align: top;\n",
       "    }\n",
       "\n",
       "    .dataframe thead th {\n",
       "        text-align: right;\n",
       "    }\n",
       "</style>\n",
       "<table border=\"1\" class=\"dataframe\">\n",
       "  <thead>\n",
       "    <tr style=\"text-align: right;\">\n",
       "      <th></th>\n",
       "      <th>AAPL</th>\n",
       "      <th>MSFT</th>\n",
       "      <th>AMZN</th>\n",
       "      <th>GOOGL</th>\n",
       "      <th>NVDA</th>\n",
       "    </tr>\n",
       "    <tr>\n",
       "      <th>Date</th>\n",
       "      <th></th>\n",
       "      <th></th>\n",
       "      <th></th>\n",
       "      <th></th>\n",
       "      <th></th>\n",
       "    </tr>\n",
       "  </thead>\n",
       "  <tbody>\n",
       "    <tr>\n",
       "      <th>2018-01-03</th>\n",
       "      <td>-0.000174</td>\n",
       "      <td>0.004654</td>\n",
       "      <td>0.012775</td>\n",
       "      <td>0.017061</td>\n",
       "      <td>0.065814</td>\n",
       "    </tr>\n",
       "    <tr>\n",
       "      <th>2018-01-04</th>\n",
       "      <td>0.004645</td>\n",
       "      <td>0.008802</td>\n",
       "      <td>0.004476</td>\n",
       "      <td>0.003884</td>\n",
       "      <td>0.005271</td>\n",
       "    </tr>\n",
       "    <tr>\n",
       "      <th>2018-01-05</th>\n",
       "      <td>0.011385</td>\n",
       "      <td>0.012398</td>\n",
       "      <td>0.016163</td>\n",
       "      <td>0.013260</td>\n",
       "      <td>0.008474</td>\n",
       "    </tr>\n",
       "    <tr>\n",
       "      <th>2018-01-08</th>\n",
       "      <td>-0.003714</td>\n",
       "      <td>0.001021</td>\n",
       "      <td>0.014425</td>\n",
       "      <td>0.003531</td>\n",
       "      <td>0.030641</td>\n",
       "    </tr>\n",
       "    <tr>\n",
       "      <th>2018-01-09</th>\n",
       "      <td>-0.000115</td>\n",
       "      <td>-0.000680</td>\n",
       "      <td>0.004676</td>\n",
       "      <td>-0.001274</td>\n",
       "      <td>-0.000270</td>\n",
       "    </tr>\n",
       "    <tr>\n",
       "      <th>...</th>\n",
       "      <td>...</td>\n",
       "      <td>...</td>\n",
       "      <td>...</td>\n",
       "      <td>...</td>\n",
       "      <td>...</td>\n",
       "    </tr>\n",
       "    <tr>\n",
       "      <th>2022-12-23</th>\n",
       "      <td>-0.002798</td>\n",
       "      <td>0.002267</td>\n",
       "      <td>0.017425</td>\n",
       "      <td>0.016750</td>\n",
       "      <td>-0.008671</td>\n",
       "    </tr>\n",
       "    <tr>\n",
       "      <th>2022-12-27</th>\n",
       "      <td>-0.013878</td>\n",
       "      <td>-0.007414</td>\n",
       "      <td>-0.025924</td>\n",
       "      <td>-0.020621</td>\n",
       "      <td>-0.071353</td>\n",
       "    </tr>\n",
       "    <tr>\n",
       "      <th>2022-12-28</th>\n",
       "      <td>-0.030685</td>\n",
       "      <td>-0.010255</td>\n",
       "      <td>-0.014692</td>\n",
       "      <td>-0.015677</td>\n",
       "      <td>-0.006019</td>\n",
       "    </tr>\n",
       "    <tr>\n",
       "      <th>2022-12-29</th>\n",
       "      <td>0.028324</td>\n",
       "      <td>0.027630</td>\n",
       "      <td>0.028844</td>\n",
       "      <td>0.028249</td>\n",
       "      <td>0.040396</td>\n",
       "    </tr>\n",
       "    <tr>\n",
       "      <th>2022-12-30</th>\n",
       "      <td>0.002469</td>\n",
       "      <td>-0.004937</td>\n",
       "      <td>-0.002138</td>\n",
       "      <td>-0.002487</td>\n",
       "      <td>0.000753</td>\n",
       "    </tr>\n",
       "  </tbody>\n",
       "</table>\n",
       "<p>1258 rows × 5 columns</p>\n",
       "</div>"
      ],
      "text/plain": [
       "                AAPL      MSFT      AMZN     GOOGL      NVDA\n",
       "Date                                                        \n",
       "2018-01-03 -0.000174  0.004654  0.012775  0.017061  0.065814\n",
       "2018-01-04  0.004645  0.008802  0.004476  0.003884  0.005271\n",
       "2018-01-05  0.011385  0.012398  0.016163  0.013260  0.008474\n",
       "2018-01-08 -0.003714  0.001021  0.014425  0.003531  0.030641\n",
       "2018-01-09 -0.000115 -0.000680  0.004676 -0.001274 -0.000270\n",
       "...              ...       ...       ...       ...       ...\n",
       "2022-12-23 -0.002798  0.002267  0.017425  0.016750 -0.008671\n",
       "2022-12-27 -0.013878 -0.007414 -0.025924 -0.020621 -0.071353\n",
       "2022-12-28 -0.030685 -0.010255 -0.014692 -0.015677 -0.006019\n",
       "2022-12-29  0.028324  0.027630  0.028844  0.028249  0.040396\n",
       "2022-12-30  0.002469 -0.004937 -0.002138 -0.002487  0.000753\n",
       "\n",
       "[1258 rows x 5 columns]"
      ]
     },
     "execution_count": 112,
     "metadata": {},
     "output_type": "execute_result"
    }
   ],
   "source": [
    "stocks =['AAPL','MSFT','AMZN','GOOGL','NVDA']\n",
    "\n",
    "dailyReturns=pd.DataFrame()\n",
    "for i in stocks:\n",
    "    data = yf.download(i, start=\"2018-1-1\", end=\"2023-1-1\")\n",
    "    dailyReturns[i]=data['Adj Close'].pct_change().dropna()\n",
    "dailyReturns"
   ]
  },
  {
   "attachments": {},
   "cell_type": "markdown",
   "metadata": {},
   "source": [
    "b. Find the average annual return (average daily return * 252) and the annual covariance matrix (covariance matrix with daily return * 252)"
   ]
  },
  {
   "cell_type": "code",
   "execution_count": 113,
   "metadata": {},
   "outputs": [
    {
     "name": "stdout",
     "output_type": "stream",
     "text": [
      "[0.28746128873604654, 0.26583588660157664, 0.13332817419630513, 0.14895029127852136, 0.35304253656119633]\n",
      "           AAPL      MSFT      AMZN     GOOGL      NVDA\n",
      "AAPL   0.112125  0.080322  0.078169  0.073678  0.115570\n",
      "MSFT   0.080322  0.096307  0.079471  0.078798  0.115866\n",
      "AMZN   0.078169  0.079471  0.128184  0.076751  0.120108\n",
      "GOOGL  0.073678  0.078798  0.076751  0.098574  0.109573\n",
      "NVDA   0.115570  0.115866  0.120108  0.109573  0.269268\n"
     ]
    }
   ],
   "source": [
    "annualReturns=[]\n",
    "\n",
    "for i in dailyReturns.columns:\n",
    "    annualReturns.append(np.average(dailyReturns[i])*252)\n",
    "annualCov=dailyReturns.cov()*252\n",
    "\n",
    "print(annualReturns)\n",
    "print(annualCov)"
   ]
  },
  {
   "attachments": {},
   "cell_type": "markdown",
   "metadata": {},
   "source": [
    "c. Draw the following scatter plot of risk and returns using the Monte Carlo simulation. (trials: 20,000)<br/> \n",
    "d. Find the point with the largest sharp ratio and draw the CAL. The risk-free rate is assumed to be 2%. "
   ]
  },
  {
   "cell_type": "code",
   "execution_count": 118,
   "metadata": {},
   "outputs": [
    {
     "data": {
      "image/png": "[encoded data removed]",
      "text/plain": [
       "<Figure size 432x288 with 2 Axes>"
      ]
     },
     "metadata": {
      "needs_background": "light"
     },
     "output_type": "display_data"
    }
   ],
   "source": [
    "port_ret=[]\n",
    "port_risk=[]\n",
    "port_weights=[]\n",
    "port_sharp=[]\n",
    "\n",
    "best_risk=0\n",
    "best_ret=0\n",
    "best_sharp=0\n",
    "\n",
    "for i in range(20000):\n",
    "    weights=np.random.random(len(stocks))\n",
    "    weights/=np.sum(weights)\n",
    "    temp_returns=np.dot(weights, annualReturns)\n",
    "    temp_risk = np.sqrt(np.dot(weights.T, np.dot(annualCov, weights)))\n",
    "    port_ret.append(temp_returns)\n",
    "    port_risk.append(temp_risk)\n",
    "    port_weights.append(weights)\n",
    "    port_sharp.append((temp_returns-0.02)/temp_risk)\n",
    "    \n",
    "    if (port_sharp[i] >best_sharp):\n",
    "        best_risk=temp_risk\n",
    "        best_ret=temp_returns\n",
    "        best_sharp=((temp_returns-0.02)/temp_risk)\n",
    "    \n",
    "    \n",
    "portfolio= {'Returns':port_ret, 'Risk':port_risk, 'Sharp':port_sharp}\n",
    "\n",
    "norm = mpl.colors.Normalize(0, 1)\n",
    "cmap = cm.bwr\n",
    "plt.scatter(portfolio['Risk'],portfolio['Returns'], c = portfolio['Sharp'], s=1.3, edgecolors=\"black\", linewidths=0.1)\n",
    "plt.colorbar(cm.ScalarMappable(norm=norm, cmap=cmap), ax=plt.gca(), label=\"sharp ratio\")\n",
    "plt.xlabel(\"SD\")\n",
    "plt.ylabel(\"Expected Returns\")\n",
    "plt.axline(xy1=(0, 0.02), slope=best_sharp, label=f'CML($y = {best_sharp:.4f}x + 0.02$)')\n",
    "plt.plot(best_risk, best_ret, marker='*',markersize=10, color=\"red\")\n",
    "plt.legend()\n",
    "\n",
    "plt.show()"
   ]
  }
 ],
 "metadata": {
  "kernelspec": {
   "display_name": "base",
   "language": "python",
   "name": "python3"
  },
  "language_info": {
   "codemirror_mode": {
    "name": "ipython",
    "version": 3
   },
   "file_extension": ".py",
   "mimetype": "text/x-python",
   "name": "python",
   "nbconvert_exporter": "python",
   "pygments_lexer": "ipython3",
   "version": "3.8.8"
  },
  "orig_nbformat": 4,
  "vscode": {
   "interpreter": {
    "hash": "ad2bdc8ecc057115af97d19610ffacc2b4e99fae6737bb82f5d7fb13d2f2c186"
   }
  }
 },
 "nbformat": 4,
 "nbformat_minor": 2
}
