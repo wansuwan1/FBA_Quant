{
 "cells": [
  {
   "attachments": {},
   "cell_type": "markdown",
   "metadata": {},
   "source": [
    "# FBA QUANT AP HW6"
   ]
  },
  {
   "attachments": {},
   "cell_type": "markdown",
   "metadata": {},
   "source": [
    "Kim Soo Wan(hse07088@snu.ac.kr)\n",
    "***"
   ]
  },
  {
   "cell_type": "code",
   "execution_count": 275,
   "metadata": {},
   "outputs": [],
   "source": [
    "import numpy as np\n",
    "import pandas as pd\n",
    "import datetime as dt\n",
    "import matplotlib.pyplot as plt\n",
    "import statsmodels.api as sm\n",
    "from statsmodels.stats.diagnostic import het_white"
   ]
  },
  {
   "attachments": {},
   "cell_type": "markdown",
   "metadata": {},
   "source": [
    "## Problem 1. Buffet’s Alpha \n",
    "(Source: BRK13F.csv)\n",
    "\n",
    "The analyst wants to evaluate the performance of Berkshire Hathaway from Jan/1999 to Dec/2013. Determine whether the fund has generated alpha (i.e., excess returns that cannot be explained by exposure to some factors) using returns of the market, the size factor (SMB), the value factor (HML), the quality factor (QMJ), the low volatility factor (BAB), and the momentum factor (UMD).\n",
    "\n",
    "1. Analyze the performance of BRK and determine whether the fund has generated alpha with the Fama-French 3 Factor Model (MKT, SMB, HML)\n",
    "2. Analyze the performance of BRK and determine whether the fund has generated alpha with the Carhart 4 Factor Model (MKT, SMB, HML, UMD)\n",
    "3. Analyze the performance of BRK and determine whether the fund has generated alpha with the 6 Factor Model (MKT, SMB, HML, QMJ, BAB, UMD)\n",
    "\n",
    "- Hint:\n",
    "    1. Calculate the excess returns for the market, size, and value factors by subtracting the risk-free rate of return from their monthly returns.\n",
    "    2. Regress the BRK's excess returns against the excess returns of the market, size, and value factors using the Fama-French 3 Factor model:\n",
    "    $$BRK\\ excess\\ return=\\alpha+\\beta_{MKT}\\times market\\ excess\\ return+\\beta_{SMB}\\times size\\ excess\\ return+\\beta_{HML}\\times value\\ excess\\ returns+\\epsilon\\ (error\\ term)$$\n",
    "    3. Test the regression equation using various statistical methods.\n",
    "    $$(1)Whether\\ \\alpha=0, (2)\\epsilon\\ is\\ white\\ noise, \\left(3\\right)explanatory\\ power\\ of\\ regression\\ model,\\ etc.$$\n",
    "    4. Compare this model to other models using evaluation metrics such as AIC, BIC, and so on."
   ]
  },
  {
   "cell_type": "code",
   "execution_count": 276,
   "metadata": {},
   "outputs": [
    {
     "name": "stdout",
     "output_type": "stream",
     "text": [
      "<class 'pandas.core.frame.DataFrame'>\n",
      "RangeIndex: 180 entries, 0 to 179\n",
      "Data columns (total 9 columns):\n",
      " #   Column    Non-Null Count  Dtype  \n",
      "---  ------    --------------  -----  \n",
      " 0   datadate  180 non-null    object \n",
      " 1   BRK.A     180 non-null    float64\n",
      " 2   MKT       180 non-null    float64\n",
      " 3   SMB       180 non-null    float64\n",
      " 4   HML       180 non-null    float64\n",
      " 5   RF        180 non-null    float64\n",
      " 6   QMJ       180 non-null    float64\n",
      " 7   BAB       180 non-null    float64\n",
      " 8   UMD       180 non-null    float64\n",
      "dtypes: float64(8), object(1)\n",
      "memory usage: 12.8+ KB\n"
     ]
    }
   ],
   "source": [
    "data = pd.read_csv('data/BRK13F.csv')\n",
    "data.info()"
   ]
  },
  {
   "cell_type": "code",
   "execution_count": 277,
   "metadata": {},
   "outputs": [
    {
     "data": {
      "text/html": [
       "<div>\n",
       "<style scoped>\n",
       "    .dataframe tbody tr th:only-of-type {\n",
       "        vertical-align: middle;\n",
       "    }\n",
       "\n",
       "    .dataframe tbody tr th {\n",
       "        vertical-align: top;\n",
       "    }\n",
       "\n",
       "    .dataframe thead th {\n",
       "        text-align: right;\n",
       "    }\n",
       "</style>\n",
       "<table border=\"1\" class=\"dataframe\">\n",
       "  <thead>\n",
       "    <tr style=\"text-align: right;\">\n",
       "      <th></th>\n",
       "      <th>datadate</th>\n",
       "      <th>BRK.A</th>\n",
       "      <th>MKT</th>\n",
       "      <th>SMB</th>\n",
       "      <th>HML</th>\n",
       "      <th>RF</th>\n",
       "      <th>QMJ</th>\n",
       "      <th>BAB</th>\n",
       "      <th>UMD</th>\n",
       "    </tr>\n",
       "  </thead>\n",
       "  <tbody>\n",
       "    <tr>\n",
       "      <th>0</th>\n",
       "      <td>1/29/1999</td>\n",
       "      <td>2.01</td>\n",
       "      <td>3.63</td>\n",
       "      <td>-1.24</td>\n",
       "      <td>-3.61</td>\n",
       "      <td>0.364</td>\n",
       "      <td>-3.54</td>\n",
       "      <td>-3.87</td>\n",
       "      <td>2.34</td>\n",
       "    </tr>\n",
       "    <tr>\n",
       "      <th>1</th>\n",
       "      <td>2/26/1999</td>\n",
       "      <td>-1.53</td>\n",
       "      <td>-4.13</td>\n",
       "      <td>-3.85</td>\n",
       "      <td>2.15</td>\n",
       "      <td>0.379</td>\n",
       "      <td>-0.41</td>\n",
       "      <td>0.94</td>\n",
       "      <td>-0.40</td>\n",
       "    </tr>\n",
       "    <tr>\n",
       "      <th>2</th>\n",
       "      <td>3/31/1999</td>\n",
       "      <td>1.50</td>\n",
       "      <td>3.52</td>\n",
       "      <td>-3.85</td>\n",
       "      <td>-2.98</td>\n",
       "      <td>0.364</td>\n",
       "      <td>-2.50</td>\n",
       "      <td>-7.73</td>\n",
       "      <td>-2.51</td>\n",
       "    </tr>\n",
       "    <tr>\n",
       "      <th>3</th>\n",
       "      <td>4/30/1999</td>\n",
       "      <td>5.33</td>\n",
       "      <td>4.56</td>\n",
       "      <td>2.88</td>\n",
       "      <td>3.47</td>\n",
       "      <td>0.369</td>\n",
       "      <td>-4.54</td>\n",
       "      <td>-0.20</td>\n",
       "      <td>-9.13</td>\n",
       "    </tr>\n",
       "    <tr>\n",
       "      <th>4</th>\n",
       "      <td>5/28/1999</td>\n",
       "      <td>-2.07</td>\n",
       "      <td>-2.55</td>\n",
       "      <td>5.64</td>\n",
       "      <td>1.15</td>\n",
       "      <td>0.378</td>\n",
       "      <td>1.82</td>\n",
       "      <td>3.62</td>\n",
       "      <td>-2.98</td>\n",
       "    </tr>\n",
       "  </tbody>\n",
       "</table>\n",
       "</div>"
      ],
      "text/plain": [
       "    datadate  BRK.A   MKT   SMB   HML     RF   QMJ   BAB   UMD\n",
       "0  1/29/1999   2.01  3.63 -1.24 -3.61  0.364 -3.54 -3.87  2.34\n",
       "1  2/26/1999  -1.53 -4.13 -3.85  2.15  0.379 -0.41  0.94 -0.40\n",
       "2  3/31/1999   1.50  3.52 -3.85 -2.98  0.364 -2.50 -7.73 -2.51\n",
       "3  4/30/1999   5.33  4.56  2.88  3.47  0.369 -4.54 -0.20 -9.13\n",
       "4  5/28/1999  -2.07 -2.55  5.64  1.15  0.378  1.82  3.62 -2.98"
      ]
     },
     "execution_count": 277,
     "metadata": {},
     "output_type": "execute_result"
    }
   ],
   "source": [
    "data.head()"
   ]
  },
  {
   "cell_type": "code",
   "execution_count": 278,
   "metadata": {},
   "outputs": [
    {
     "name": "stdout",
     "output_type": "stream",
     "text": [
      "<class 'pandas.core.frame.DataFrame'>\n",
      "RangeIndex: 180 entries, 0 to 179\n",
      "Data columns (total 9 columns):\n",
      " #   Column    Non-Null Count  Dtype    \n",
      "---  ------    --------------  -----    \n",
      " 0   datadate  180 non-null    period[M]\n",
      " 1   BRK.A     180 non-null    float64  \n",
      " 2   MKT       180 non-null    float64  \n",
      " 3   SMB       180 non-null    float64  \n",
      " 4   HML       180 non-null    float64  \n",
      " 5   RF        180 non-null    float64  \n",
      " 6   QMJ       180 non-null    float64  \n",
      " 7   BAB       180 non-null    float64  \n",
      " 8   UMD       180 non-null    float64  \n",
      "dtypes: float64(8), period[M](1)\n",
      "memory usage: 12.8 KB\n"
     ]
    },
    {
     "data": {
      "text/html": [
       "<div>\n",
       "<style scoped>\n",
       "    .dataframe tbody tr th:only-of-type {\n",
       "        vertical-align: middle;\n",
       "    }\n",
       "\n",
       "    .dataframe tbody tr th {\n",
       "        vertical-align: top;\n",
       "    }\n",
       "\n",
       "    .dataframe thead th {\n",
       "        text-align: right;\n",
       "    }\n",
       "</style>\n",
       "<table border=\"1\" class=\"dataframe\">\n",
       "  <thead>\n",
       "    <tr style=\"text-align: right;\">\n",
       "      <th></th>\n",
       "      <th>datadate</th>\n",
       "      <th>BRK.A</th>\n",
       "      <th>MKT</th>\n",
       "      <th>SMB</th>\n",
       "      <th>HML</th>\n",
       "      <th>RF</th>\n",
       "      <th>QMJ</th>\n",
       "      <th>BAB</th>\n",
       "      <th>UMD</th>\n",
       "    </tr>\n",
       "  </thead>\n",
       "  <tbody>\n",
       "    <tr>\n",
       "      <th>0</th>\n",
       "      <td>1999-01</td>\n",
       "      <td>2.01</td>\n",
       "      <td>3.63</td>\n",
       "      <td>-1.24</td>\n",
       "      <td>-3.61</td>\n",
       "      <td>0.364</td>\n",
       "      <td>-3.54</td>\n",
       "      <td>-3.87</td>\n",
       "      <td>2.34</td>\n",
       "    </tr>\n",
       "    <tr>\n",
       "      <th>1</th>\n",
       "      <td>1999-02</td>\n",
       "      <td>-1.53</td>\n",
       "      <td>-4.13</td>\n",
       "      <td>-3.85</td>\n",
       "      <td>2.15</td>\n",
       "      <td>0.379</td>\n",
       "      <td>-0.41</td>\n",
       "      <td>0.94</td>\n",
       "      <td>-0.40</td>\n",
       "    </tr>\n",
       "    <tr>\n",
       "      <th>2</th>\n",
       "      <td>1999-03</td>\n",
       "      <td>1.50</td>\n",
       "      <td>3.52</td>\n",
       "      <td>-3.85</td>\n",
       "      <td>-2.98</td>\n",
       "      <td>0.364</td>\n",
       "      <td>-2.50</td>\n",
       "      <td>-7.73</td>\n",
       "      <td>-2.51</td>\n",
       "    </tr>\n",
       "    <tr>\n",
       "      <th>3</th>\n",
       "      <td>1999-04</td>\n",
       "      <td>5.33</td>\n",
       "      <td>4.56</td>\n",
       "      <td>2.88</td>\n",
       "      <td>3.47</td>\n",
       "      <td>0.369</td>\n",
       "      <td>-4.54</td>\n",
       "      <td>-0.20</td>\n",
       "      <td>-9.13</td>\n",
       "    </tr>\n",
       "    <tr>\n",
       "      <th>4</th>\n",
       "      <td>1999-05</td>\n",
       "      <td>-2.07</td>\n",
       "      <td>-2.55</td>\n",
       "      <td>5.64</td>\n",
       "      <td>1.15</td>\n",
       "      <td>0.378</td>\n",
       "      <td>1.82</td>\n",
       "      <td>3.62</td>\n",
       "      <td>-2.98</td>\n",
       "    </tr>\n",
       "  </tbody>\n",
       "</table>\n",
       "</div>"
      ],
      "text/plain": [
       "  datadate  BRK.A   MKT   SMB   HML     RF   QMJ   BAB   UMD\n",
       "0  1999-01   2.01  3.63 -1.24 -3.61  0.364 -3.54 -3.87  2.34\n",
       "1  1999-02  -1.53 -4.13 -3.85  2.15  0.379 -0.41  0.94 -0.40\n",
       "2  1999-03   1.50  3.52 -3.85 -2.98  0.364 -2.50 -7.73 -2.51\n",
       "3  1999-04   5.33  4.56  2.88  3.47  0.369 -4.54 -0.20 -9.13\n",
       "4  1999-05  -2.07 -2.55  5.64  1.15  0.378  1.82  3.62 -2.98"
      ]
     },
     "execution_count": 278,
     "metadata": {},
     "output_type": "execute_result"
    }
   ],
   "source": [
    "data['datadate'] = pd.to_datetime(data['datadate'], format=\"%m/%d/%Y\").dt.to_period(freq='M')\n",
    "data.info()\n",
    "data.head()"
   ]
  },
  {
   "cell_type": "code",
   "execution_count": 279,
   "metadata": {},
   "outputs": [
    {
     "data": {
      "text/html": [
       "<div>\n",
       "<style scoped>\n",
       "    .dataframe tbody tr th:only-of-type {\n",
       "        vertical-align: middle;\n",
       "    }\n",
       "\n",
       "    .dataframe tbody tr th {\n",
       "        vertical-align: top;\n",
       "    }\n",
       "\n",
       "    .dataframe thead th {\n",
       "        text-align: right;\n",
       "    }\n",
       "</style>\n",
       "<table border=\"1\" class=\"dataframe\">\n",
       "  <thead>\n",
       "    <tr style=\"text-align: right;\">\n",
       "      <th></th>\n",
       "      <th>datadate</th>\n",
       "      <th>BRK.A</th>\n",
       "      <th>MKT</th>\n",
       "      <th>SMB</th>\n",
       "      <th>HML</th>\n",
       "      <th>RF</th>\n",
       "      <th>QMJ</th>\n",
       "      <th>BAB</th>\n",
       "      <th>UMD</th>\n",
       "    </tr>\n",
       "  </thead>\n",
       "  <tbody>\n",
       "    <tr>\n",
       "      <th>0</th>\n",
       "      <td>1999-01</td>\n",
       "      <td>2.01</td>\n",
       "      <td>3.266</td>\n",
       "      <td>-1.604</td>\n",
       "      <td>-3.974</td>\n",
       "      <td>0.364</td>\n",
       "      <td>-3.904</td>\n",
       "      <td>-4.234</td>\n",
       "      <td>1.976</td>\n",
       "    </tr>\n",
       "    <tr>\n",
       "      <th>1</th>\n",
       "      <td>1999-02</td>\n",
       "      <td>-1.53</td>\n",
       "      <td>-4.509</td>\n",
       "      <td>-4.229</td>\n",
       "      <td>1.771</td>\n",
       "      <td>0.379</td>\n",
       "      <td>-0.789</td>\n",
       "      <td>0.561</td>\n",
       "      <td>-0.779</td>\n",
       "    </tr>\n",
       "    <tr>\n",
       "      <th>2</th>\n",
       "      <td>1999-03</td>\n",
       "      <td>1.50</td>\n",
       "      <td>3.156</td>\n",
       "      <td>-4.214</td>\n",
       "      <td>-3.344</td>\n",
       "      <td>0.364</td>\n",
       "      <td>-2.864</td>\n",
       "      <td>-8.094</td>\n",
       "      <td>-2.874</td>\n",
       "    </tr>\n",
       "    <tr>\n",
       "      <th>3</th>\n",
       "      <td>1999-04</td>\n",
       "      <td>5.33</td>\n",
       "      <td>4.191</td>\n",
       "      <td>2.511</td>\n",
       "      <td>3.101</td>\n",
       "      <td>0.369</td>\n",
       "      <td>-4.909</td>\n",
       "      <td>-0.569</td>\n",
       "      <td>-9.499</td>\n",
       "    </tr>\n",
       "    <tr>\n",
       "      <th>4</th>\n",
       "      <td>1999-05</td>\n",
       "      <td>-2.07</td>\n",
       "      <td>-2.928</td>\n",
       "      <td>5.262</td>\n",
       "      <td>0.772</td>\n",
       "      <td>0.378</td>\n",
       "      <td>1.442</td>\n",
       "      <td>3.242</td>\n",
       "      <td>-3.358</td>\n",
       "    </tr>\n",
       "  </tbody>\n",
       "</table>\n",
       "</div>"
      ],
      "text/plain": [
       "  datadate  BRK.A    MKT    SMB    HML     RF    QMJ    BAB    UMD\n",
       "0  1999-01   2.01  3.266 -1.604 -3.974  0.364 -3.904 -4.234  1.976\n",
       "1  1999-02  -1.53 -4.509 -4.229  1.771  0.379 -0.789  0.561 -0.779\n",
       "2  1999-03   1.50  3.156 -4.214 -3.344  0.364 -2.864 -8.094 -2.874\n",
       "3  1999-04   5.33  4.191  2.511  3.101  0.369 -4.909 -0.569 -9.499\n",
       "4  1999-05  -2.07 -2.928  5.262  0.772  0.378  1.442  3.242 -3.358"
      ]
     },
     "execution_count": 279,
     "metadata": {},
     "output_type": "execute_result"
    }
   ],
   "source": [
    "# Hint 1. \n",
    "data[['MKT','SMB','HML', 'QMJ', 'BAB', 'UMD']] = data[['MKT','SMB','HML', 'QMJ', 'BAB', 'UMD']].sub(data['RF'], axis=0) \n",
    "data.head()"
   ]
  },
  {
   "cell_type": "code",
   "execution_count": 280,
   "metadata": {},
   "outputs": [],
   "source": [
    "def mutli_factor_model(factors):\n",
    "    factor_data = sm.add_constant(data[factors]) # Hint 2.\n",
    "    model = sm.OLS(data['BRK.A'], factor_data).fit()\n",
    "    print(\"factors : \", factors)\n",
    "    print(model.summary())\n",
    "    return model"
   ]
  },
  {
   "attachments": {},
   "cell_type": "markdown",
   "metadata": {},
   "source": [
    "**White test**\n",
    "- In statistics, the White test is a statistical test that establishes whether the variance of the errors in a regression model is constant: that is for homoskedasticity\n",
    "    - Null (H0): Homoscedasticity is present (residuals are equally scattered)\n",
    "    - Alternative (HA): Heteroscedasticity is present (residuals are not equally scattered)\n",
    "- ex) statsmodels.stats.diagnostic.het_white "
   ]
  },
  {
   "cell_type": "code",
   "execution_count": 281,
   "metadata": {},
   "outputs": [],
   "source": [
    "def is_errors_white_noise(model):\n",
    "    errors=model.resid\n",
    "    print(\"30-priod std of errors\")\n",
    "    plt.plot(errors.rolling(window=30).std().dropna())\n",
    "    plt.show()\n",
    "    white_test = het_white(errors, model.model.exog)\n",
    "    labels = ['Test Statistic', 'Test Statistic p-value', 'F-Statistic', 'F-Test p-value']\n",
    "    print(\"Result of White's Test\")\n",
    "    print(dict(zip(labels, white_test)))"
   ]
  },
  {
   "cell_type": "code",
   "execution_count": 282,
   "metadata": {},
   "outputs": [],
   "source": [
    "def analyze_pkt(factors):\n",
    "    is_errors_white_noise(mutli_factor_model(factors))"
   ]
  },
  {
   "attachments": {},
   "cell_type": "markdown",
   "metadata": {},
   "source": [
    "1. MKT, SMB, HML"
   ]
  },
  {
   "cell_type": "code",
   "execution_count": 283,
   "metadata": {},
   "outputs": [
    {
     "name": "stderr",
     "output_type": "stream",
     "text": [
      "c:\\ProgramData\\Anaconda3\\lib\\site-packages\\statsmodels\\tsa\\tsatools.py:142: FutureWarning: In a future version of pandas all arguments of concat except for the argument 'objs' will be keyword-only.\n",
      "  x = pd.concat(x[::order], 1)\n"
     ]
    },
    {
     "name": "stdout",
     "output_type": "stream",
     "text": [
      "factors :  ['MKT', 'SMB', 'HML']\n",
      "                            OLS Regression Results                            \n",
      "==============================================================================\n",
      "Dep. Variable:                  BRK.A   R-squared:                       0.620\n",
      "Model:                            OLS   Adj. R-squared:                  0.613\n",
      "Method:                 Least Squares   F-statistic:                     95.52\n",
      "Date:                Fri, 10 Mar 2023   Prob (F-statistic):           9.85e-37\n",
      "Time:                        02:29:49   Log-Likelihood:                -436.91\n",
      "No. Observations:                 180   AIC:                             881.8\n",
      "Df Residuals:                     176   BIC:                             894.6\n",
      "Df Model:                           3                                         \n",
      "Covariance Type:            nonrobust                                         \n",
      "==============================================================================\n",
      "                 coef    std err          t      P>|t|      [0.025      0.975]\n",
      "------------------------------------------------------------------------------\n",
      "const          0.5418      0.208      2.606      0.010       0.132       0.952\n",
      "MKT            0.7398      0.047     15.910      0.000       0.648       0.832\n",
      "SMB           -0.3080      0.076     -4.036      0.000      -0.459      -0.157\n",
      "HML            0.5209      0.070      7.449      0.000       0.383       0.659\n",
      "==============================================================================\n",
      "Omnibus:                       19.602   Durbin-Watson:                   2.060\n",
      "Prob(Omnibus):                  0.000   Jarque-Bera (JB):               75.970\n",
      "Skew:                           0.167   Prob(JB):                     3.19e-17\n",
      "Kurtosis:                       6.165   Cond. No.                         5.02\n",
      "==============================================================================\n",
      "\n",
      "Notes:\n",
      "[1] Standard Errors assume that the covariance matrix of the errors is correctly specified.\n",
      "30-priod std of errors\n"
     ]
    },
    {
     "data": {
      "image/png": "[encoded data removed]",
      "text/plain": [
       "<Figure size 432x288 with 1 Axes>"
      ]
     },
     "metadata": {
      "needs_background": "light"
     },
     "output_type": "display_data"
    },
    {
     "name": "stdout",
     "output_type": "stream",
     "text": [
      "Result of White's Test\n",
      "{'Test Statistic': 43.46645496420261, 'Test Statistic p-value': 1.7695959577336699e-06, 'F-Statistic': 6.013416248713469, 'F-Test p-value': 2.637039890736112e-07}\n"
     ]
    }
   ],
   "source": [
    "factors=['MKT', 'SMB', 'HML']\n",
    "analyze_pkt(factors)"
   ]
  },
  {
   "attachments": {},
   "cell_type": "markdown",
   "metadata": {},
   "source": [
    "- Analysis\n",
    "\n",
    "    0. F-statistics = 96.13 and Prob (F-statistic):\t6.98e-37. Thus, this model is statistically statistically significant.\n",
    "    1. $Whether~\\alpha=0?$ regression result for $\\alpha$ was 0.3625, but the result of t-test implies that the null hyphothesis of $H_o:\\alpha=0$ can be rejected even at confidence level 99%. It can be said The fund is generating alpha and BRK.A is making profits.\n",
    "    2. Unfortunately, the errors are not likely white noise since its 30-period std varies over whole period. White's test produces consistent results of null hypothesis residuals are equally scattered can be rejected under 95% confidence level.\n",
    "    3. For each factor, by the t-test, null hyphothesis of BRK.A is irrelevant(coefficient is 0) with the factor was able to be rejectend at confidence level 99%.\n",
    "        \n",
    "        Adj. R-squared was 0.615 reprsenting 3 factors explain BRK.A's variance about 61.5%.\n",
    "    4. AIC : ?"
   ]
  },
  {
   "attachments": {},
   "cell_type": "markdown",
   "metadata": {},
   "source": [
    "2. MKT, SMB, HML, UMD"
   ]
  },
  {
   "cell_type": "code",
   "execution_count": 284,
   "metadata": {},
   "outputs": [
    {
     "name": "stderr",
     "output_type": "stream",
     "text": [
      "c:\\ProgramData\\Anaconda3\\lib\\site-packages\\statsmodels\\tsa\\tsatools.py:142: FutureWarning: In a future version of pandas all arguments of concat except for the argument 'objs' will be keyword-only.\n",
      "  x = pd.concat(x[::order], 1)\n"
     ]
    },
    {
     "name": "stdout",
     "output_type": "stream",
     "text": [
      "factors :  ['MKT', 'SMB', 'HML', 'UMD']\n",
      "                            OLS Regression Results                            \n",
      "==============================================================================\n",
      "Dep. Variable:                  BRK.A   R-squared:                       0.640\n",
      "Model:                            OLS   Adj. R-squared:                  0.632\n",
      "Method:                 Least Squares   F-statistic:                     77.79\n",
      "Date:                Fri, 10 Mar 2023   Prob (F-statistic):           8.50e-38\n",
      "Time:                        02:30:02   Log-Likelihood:                -431.92\n",
      "No. Observations:                 180   AIC:                             873.8\n",
      "Df Residuals:                     175   BIC:                             889.8\n",
      "Df Model:                           4                                         \n",
      "Covariance Type:            nonrobust                                         \n",
      "==============================================================================\n",
      "                 coef    std err          t      P>|t|      [0.025      0.975]\n",
      "------------------------------------------------------------------------------\n",
      "const          0.5829      0.203      2.869      0.005       0.182       0.984\n",
      "MKT            0.6912      0.048     14.431      0.000       0.597       0.786\n",
      "SMB           -0.3247      0.075     -4.351      0.000      -0.472      -0.177\n",
      "HML            0.4900      0.069      7.110      0.000       0.354       0.626\n",
      "UMD           -0.1188      0.038     -3.158      0.002      -0.193      -0.045\n",
      "==============================================================================\n",
      "Omnibus:                       22.912   Durbin-Watson:                   1.967\n",
      "Prob(Omnibus):                  0.000   Jarque-Bera (JB):               84.934\n",
      "Skew:                           0.336   Prob(JB):                     3.60e-19\n",
      "Kurtosis:                       6.297   Cond. No.                         6.34\n",
      "==============================================================================\n",
      "\n",
      "Notes:\n",
      "[1] Standard Errors assume that the covariance matrix of the errors is correctly specified.\n",
      "30-priod std of errors\n"
     ]
    },
    {
     "data": {
      "image/png": "[encoded data removed]",
      "text/plain": [
       "<Figure size 432x288 with 1 Axes>"
      ]
     },
     "metadata": {
      "needs_background": "light"
     },
     "output_type": "display_data"
    },
    {
     "name": "stdout",
     "output_type": "stream",
     "text": [
      "Result of White's Test\n",
      "{'Test Statistic': 61.402840338914295, 'Test Statistic p-value': 6.648357367291069e-08, 'F-Statistic': 6.101970187429617, 'F-Test p-value': 1.1503065718090872e-09}\n"
     ]
    }
   ],
   "source": [
    "factors=['MKT', 'SMB', 'HML', 'UMD']\n",
    "analyze_pkt(factors)"
   ]
  },
  {
   "attachments": {},
   "cell_type": "markdown",
   "metadata": {},
   "source": [
    "- Analysis\n",
    "\n",
    "    0. Prob (F-statistic):\t8.50e-38. Thus, this model is statistically statistically significant.\n",
    "    1. $Whether~\\alpha=0?$ regression result for $\\alpha$ was 0.5829. The result of t-test implies that the null hyphothesis of $H_o:\\alpha=0$ can be barely rejected under confidence level 95%. It may be said The fund is generating alpha and BRK.A is making profits.\n",
    "    2. Unfortunately, the errors still seems are not white noise since its 30-period std varies over whole period. White's test produces consistent results of null hypothesis residuals are equally scattered can be rejected at 95% confidence level.\n",
    "    3. For each factor, the null hypothesis of BRK.A being irrelevant (coefficient = 0) can be rejected with a 99% confidence level, except for UMD, which could only be rejected at a 95% confidence level using the t-test\n",
    "        \n",
    "        Adj. R-squared was 0.632 reprsenting 3 factors explain BRK.A's variance about 63.2%. *Not much improvements from 3 factor model.*\n",
    "    4. AIC : ?"
   ]
  },
  {
   "attachments": {},
   "cell_type": "markdown",
   "metadata": {},
   "source": [
    "3. MKT, SMB, HML, QMJ, BAB, UMD"
   ]
  },
  {
   "cell_type": "code",
   "execution_count": 286,
   "metadata": {},
   "outputs": [
    {
     "name": "stderr",
     "output_type": "stream",
     "text": [
      "c:\\ProgramData\\Anaconda3\\lib\\site-packages\\statsmodels\\tsa\\tsatools.py:142: FutureWarning: In a future version of pandas all arguments of concat except for the argument 'objs' will be keyword-only.\n",
      "  x = pd.concat(x[::order], 1)\n"
     ]
    },
    {
     "name": "stdout",
     "output_type": "stream",
     "text": [
      "factors :  ['MKT', 'SMB', 'HML', 'QMJ', 'BAB', 'UMD']\n",
      "                            OLS Regression Results                            \n",
      "==============================================================================\n",
      "Dep. Variable:                  BRK.A   R-squared:                       0.654\n",
      "Model:                            OLS   Adj. R-squared:                  0.642\n",
      "Method:                 Least Squares   F-statistic:                     54.42\n",
      "Date:                Fri, 10 Mar 2023   Prob (F-statistic):           2.47e-37\n",
      "Time:                        02:30:30   Log-Likelihood:                -428.45\n",
      "No. Observations:                 180   AIC:                             870.9\n",
      "Df Residuals:                     173   BIC:                             893.3\n",
      "Df Model:                           6                                         \n",
      "Covariance Type:            nonrobust                                         \n",
      "==============================================================================\n",
      "                 coef    std err          t      P>|t|      [0.025      0.975]\n",
      "------------------------------------------------------------------------------\n",
      "const          0.4833      0.204      2.366      0.019       0.080       0.886\n",
      "MKT            0.8103      0.066     12.317      0.000       0.680       0.940\n",
      "SMB           -0.2143      0.085     -2.522      0.013      -0.382      -0.047\n",
      "HML            0.4815      0.080      6.001      0.000       0.323       0.640\n",
      "QMJ            0.2735      0.109      2.513      0.013       0.059       0.488\n",
      "BAB            0.0037      0.061      0.061      0.952      -0.116       0.123\n",
      "UMD           -0.1312      0.039     -3.384      0.001      -0.208      -0.055\n",
      "==============================================================================\n",
      "Omnibus:                       26.000   Durbin-Watson:                   1.994\n",
      "Prob(Omnibus):                  0.000   Jarque-Bera (JB):              104.005\n",
      "Skew:                           0.397   Prob(JB):                     2.60e-23\n",
      "Kurtosis:                       6.638   Cond. No.                         7.41\n",
      "==============================================================================\n",
      "\n",
      "Notes:\n",
      "[1] Standard Errors assume that the covariance matrix of the errors is correctly specified.\n",
      "30-priod std of errors\n"
     ]
    },
    {
     "data": {
      "image/png": "[encoded data removed]",
      "text/plain": [
       "<Figure size 432x288 with 1 Axes>"
      ]
     },
     "metadata": {
      "needs_background": "light"
     },
     "output_type": "display_data"
    },
    {
     "name": "stdout",
     "output_type": "stream",
     "text": [
      "Result of White's Test\n",
      "{'Test Statistic': 87.7739449935123, 'Test Statistic p-value': 2.3808033479279132e-08, 'F-Statistic': 5.357865533879747, 'F-Test p-value': 6.962657536718385e-12}\n"
     ]
    }
   ],
   "source": [
    "factors=['MKT', 'SMB', 'HML', 'QMJ', 'BAB','UMD']\n",
    "analyze_pkt(factors)"
   ]
  },
  {
   "attachments": {},
   "cell_type": "markdown",
   "metadata": {},
   "source": [
    "- Analysis\n",
    "\n",
    "    0. Prob (F-statistic):\t2.47e-37. Thus, this model is statistically statistically significant.\n",
    "    1. $Whether~\\alpha=0?$ regression result for $\\alpha$ was 0.4833. The result of t-test implies that the null hyphothesis of $H_o:\\alpha=0$ can be rejected under confidence level 95%. It may be said the fund is generating alpha and BRK.A is making profits.\n",
    "    2. Unfortunately, it is not likely the errors are white noise since its 30-period std varies over whole period. White's test produces consistent results of null hypothesis residuals are equally scattered can be rejected at 95% confidence level.\n",
    "    3. For BAB, its p-value is cremendously high and the null hypothesis of the factor and BRK.A are irrelevent can't be rejected even at very low level of confidence.\n",
    "    \n",
    "        For the Others, the null hypothesis can be rejected with a 95% confidence level.\n",
    "        \n",
    "        Adj. R-squared was 0.632 reprsenting 3 factors explain BRK.A's variance about 63.2%. *Not much improvements from 3 factor model.*\n",
    "    4. AIC : ?"
   ]
  }
 ],
 "metadata": {
  "kernelspec": {
   "display_name": "Python 3",
   "language": "python",
   "name": "python3"
  },
  "language_info": {
   "codemirror_mode": {
    "name": "ipython",
    "version": 3
   },
   "file_extension": ".py",
   "mimetype": "text/x-python",
   "name": "python",
   "nbconvert_exporter": "python",
   "pygments_lexer": "ipython3",
   "version": "3.8.8"
  },
  "orig_nbformat": 4,
  "vscode": {
   "interpreter": {
    "hash": "de47f5c92c0ee6f12a59a5613ac5feff6aab19ddff207ba0b3964cced08c4ccc"
   }
  }
 },
 "nbformat": 4,
 "nbformat_minor": 2
}
