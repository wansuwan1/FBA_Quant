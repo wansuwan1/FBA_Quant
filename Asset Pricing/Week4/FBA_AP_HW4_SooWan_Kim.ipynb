{
 "cells": [
  {
   "attachments": {},
   "cell_type": "markdown",
   "metadata": {},
   "source": [
    "# FBA QUANT AP HW4"
   ]
  },
  {
   "attachments": {},
   "cell_type": "markdown",
   "metadata": {},
   "source": [
    "Kim Soo Wan(hse07088@snu.ac.kr)"
   ]
  },
  {
   "attachments": {},
   "cell_type": "markdown",
   "metadata": {},
   "source": [
    "***\n",
    "##### Problem 1. \n",
    "There are two risky assets, $A_1,A_2$ such that<br/>\n",
    "- expected returns of A and B:  $\\mu_1,\\mu_2$<br/>\n",
    "- standard deviations of A and B: $\\sigma_1,\\sigma_2$<br/>\n",
    "\n",
    "Thus, we can construct the portfolio $P=w_1 A+w_2 B (w_1,w_2~are~the~weights~of~risky~assets)$ with these two risky assets.<br/>\n",
    "Using the Lagrange Multiplier Method, find the analytical solution of the efficient frontier<br/><br/>"
   ]
  },
  {
   "attachments": {},
   "cell_type": "markdown",
   "metadata": {},
   "source": [
    "Sol)<br/>\n",
    "When the target expected return is given as $μ_0$, constraints are $$1. w_1 \\mu_1+w_2 \\mu_2=\\mu_0 \\\\ 2. w_1+w_2=1~~~~~~~~~~$$\n",
    "thus, Lagrange Function under the given rate $μ_0$ is given as\n",
    "$$L=1/2 \\sum_{i,j=1}^2 w_i w_j \\sigma_{ij} -\\lambda_1 \\left(\\sum_{i=1}^2 w_i \\mu_i-\\mu_0 \\right)- \\lambda_2 \\left(\\sum_{i=1}^2 w_i-1 \\right)$$\n",
    "Finding the optimal weights written by lambda after partial differentiation,\n",
    "$${\\delta L \\over \\delta w_1 }=0,{\\delta L \\over \\delta w_2 }=0~→~optimal~weights~w^*  (function~of~\\lambda_1,\\lambda_2)$$\n",
    "Since\n",
    "$$\n",
    "\\begin{cases}\n",
    "{\\frac{\\partial L}{\\partial w_1} = w_2^*\\sigma_{12} + w_1^* \\sigma^2_{1} - \\lambda_1 \\mu_1 - \\lambda_2=0} \\\\\n",
    "{\\frac{\\partial L}{\\partial w_2} = w_1^*\\sigma_{12} + w_2^* \\sigma^2_{2} - \\lambda_1 \\mu_2 - \\lambda_2=0}\n",
    "\\end{cases}\n",
    "$$\n",
    "along with 2 constraints, it can be obtained that\n",
    "$$\n",
    "\\begin{cases}\n",
    "w_1^* = {\\mu_0-\\mu_2 \\over \\mu_1-\\mu_2}\\\\\n",
    "w_2^* = -{\\mu_0-\\mu_1 \\over \\mu_1-\\mu_2}\n",
    "\\end{cases}$$\n",
    "actually, in this case with 2 assets, the weights are already determined only by the constraints.<br/>"
   ]
  },
  {
   "attachments": {},
   "cell_type": "markdown",
   "metadata": {},
   "source": [
    "Finding global minimum variance portfolio can be written as $$minimize~1/2\\sum_{i,j=1}^2w_iw_j\\sigma_{ij}~~~ w.r.t.~~~w_1+w_2=1$$\n",
    "thus, its Lagrange Function is given as $$L=1/2\\sum_{i,j=1}^2w_iw_j\\sigma_{ij}-\\lambda(w_1+w_2-1)$$\n",
    "and by solving this,\n",
    "$$\n",
    "\\begin{cases}\n",
    "{\\frac{\\partial L}{\\partial w_1} = w_{2g}\\sigma_{12} + w_{1g} \\sigma^2_{1}- \\lambda=0} \\\\\n",
    "{\\frac{\\partial L}{\\partial w_2} = w_{1g}^*\\sigma_{12} + w_{2g} \\sigma^2_{2} - \\lambda=0}\n",
    "\\end{cases}\n",
    "$$\n",
    "we can obtain the weights of the global minimum variance portfolio as\n",
    "$$\n",
    "\\begin{cases}\n",
    "w_{1g}=\\frac{\\sigma_2^2 -\\sigma_{12}}{\\sigma_1^2+\\sigma_2^2-2\\sigma_{12}}\\\\\n",
    "w_{2g}=\\frac{\\sigma_1^2 -\\sigma_{12}}{\\sigma_2^2+\\sigma_1^2-2\\sigma_{12}}\n",
    "\\end{cases}\n",
    "$$\n",
    "and return of this global minimum variance porftolio will be\n",
    "$$\\mu_g=w_{1g}\\mu_1+w_{2g}\\mu_2=\\frac{\\sigma_2^2 -\\sigma_{12}}{\\sigma_1^2+\\sigma_2^2-2\\sigma_{12}}\\mu_1+\\frac{\\sigma_1^2 -\\sigma_{12}}{\\sigma_2^2+\\sigma_1^2-2\\sigma_{12}}\\mu_2$$\n",
    "Thus, the Efficient frontier of this two assets become\n",
    "$$\n",
    "\\begin{cases}\n",
    "w_1^* = {\\mu_0-\\mu_2 \\over \\mu_1-\\mu_2}\\\\\n",
    "w_2^* = -{\\mu_0-\\mu_1 \\over \\mu_1-\\mu_2}\n",
    "\\end{cases}\\\\ for~\\mu_0>\\mu_g=\\frac{\\sigma_2^2 -\\sigma_{12}}{\\sigma_1^2+\\sigma_2^2-2\\sigma_{12}}\\mu_1+\\frac{\\sigma_1^2 -\\sigma_{12}}{\\sigma_2^2+\\sigma_1^2-2\\sigma_{12}}\\mu_2$$"
   ]
  },
  {
   "attachments": {},
   "cell_type": "markdown",
   "metadata": {},
   "source": [
    "***\n",
    "##### Problem 3.\n",
    "Jin’s friend is planning to invest $1 million in a rock concert to be held 1 year from now. The friend figures that he will obtain $3 million revenue from his $1 million investment-unless, my goodness, it rains. If it rains, he will lose his entire investment. There is a 50% chance that it will rain the day of the concert. Gain suggests that he buy rain insurance. He can buy one unit of insurance for $0.5. and this unit pays $1 if it rains and nothing if it does not. He may purchase as many as he wishes, up to $3 million.<br/>\n",
    "\n",
    "a) What is the expected rate of return on his investment if he buys u units of insurance? (The cost of insurance is in addition ot his $1 million investment.)<br/>\n",
    "b) What number of units will minimize the variance of his return? What is this minimum value? And what is the corresponding expected rate of return?<br/>\n"
   ]
  },
  {
   "attachments": {},
   "cell_type": "markdown",
   "metadata": {},
   "source": [
    "Sol)<br/>\n",
    "a) revenue with u million units of insurance is $$\\begin{cases}\\$(0.5u-1)~M, & \\text{if it rains} \\\\ \\$(2-0.5u)~M, & \\text{if it does not rains} \\end{cases}$$\n",
    "thus, the expected revenue is $$\\$0.5~M$$ and since the expense is always ${1+0.5u}$, expected rate of return became $${0.5 \\over 1+0.5u}$$ <br/>\n",
    "<br/>b) variance of his return with u million units of insurance is $$0.25u^2-1.5u+2.25$$, thus, its minimum value is $0$ when $u=3~M$ and its expected rate of return will be ${0.5\\over1+0.5\\times3}=0.2$"
   ]
  }
 ],
 "metadata": {
  "kernelspec": {
   "display_name": "Python 3",
   "language": "python",
   "name": "python3"
  },
  "language_info": {
   "name": "python",
   "version": "3.11.1"
  },
  "orig_nbformat": 4,
  "vscode": {
   "interpreter": {
    "hash": "de47f5c92c0ee6f12a59a5613ac5feff6aab19ddff207ba0b3964cced08c4ccc"
   }
  }
 },
 "nbformat": 4,
 "nbformat_minor": 2
}
