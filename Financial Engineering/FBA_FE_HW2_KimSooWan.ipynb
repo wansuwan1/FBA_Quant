{
 "cells": [
  {
   "cell_type": "markdown",
   "metadata": {},
   "source": [
    "\n",
    "# FBA QUANT Financial Engineering HW 2"
   ]
  },
  {
   "attachments": {},
   "cell_type": "markdown",
   "metadata": {},
   "source": [
    "KimSooWan(hse07088@snu.ac.kr)\n",
    "***"
   ]
  },
  {
   "attachments": {},
   "cell_type": "markdown",
   "metadata": {},
   "source": [
    "### Problem 1. "
   ]
  },
  {
   "attachments": {},
   "cell_type": "markdown",
   "metadata": {},
   "source": [
    "There are three bonds in the market as follows:<br/>\n",
    "1. A bond with 4% coupon rate (paid annually), 10 years to maturity, and $1,000 face value<br/>\n",
    "2. A bond with 4% plus current (short) rate (paid annually), 10 years to maturity, and $1,000 face value<br/>\n",
    "3. A bond with 8% minus current (short) rate (paid annually), 10 years to maturity, and $1,000 face value<br/>\n",
    "\n",
    "The prices of the bonds are \\$950, \\$1,100, and \\$900, respectively.<br/>\n",
    "\n",
    "(a) Derive the price of a zero-coupon bond with 10 years to maturity and $1,000 face value.<br/>\n",
    "(b) Derive the price of a floating-rate bond (coupon paid annually) with 10 years to maturity and $1,000 face value.<br/>"
   ]
  },
  {
   "attachments": {},
   "cell_type": "markdown",
   "metadata": {},
   "source": [
    "*(a)* 3 $\\times$ Bond 1 - ( Bond 2 + Bond 3 ) = zero-coupon bond with 10 years to maturity and \\$1,000 face value<br/>\n",
    "Thus, 3 $\\times$ \\$950 - ( \\$1,100 + \\$900 ) = \\$850.<br/>\n",
    "<br/>\n",
    "*(b)* floating-rate bond price is equal to its face value. Thus, $1,000.\n",
    "***"
   ]
  },
  {
   "cell_type": "markdown",
   "metadata": {},
   "source": [
    "### Porblem 2"
   ]
  },
  {
   "attachments": {},
   "cell_type": "markdown",
   "metadata": {},
   "source": [
    "Under continuous compounding the Macaulay duration becomes $D={{\\sum_{k=0}^n 𝑡_𝑘𝑒^{-\\lambda𝑡_𝑘}𝑐_𝑘}\\over 𝑃}$<br/>\n",
    "Where $\\lambda$ is the yield and $P=\\sum _{k=0}^n 𝑒^{−\\lambda𝑡_𝑘}𝑐_𝑘$<br/>\n",
    "Find $dP/d\\lambda$ in terms of D and P.<br/>"
   ]
  },
  {
   "attachments": {},
   "cell_type": "markdown",
   "metadata": {},
   "source": [
    "${dP/d\\lambda} = \\sum_{k=0}^n(-t_k)e^{-\\lambda t_k}d_k = - D \\times P$\n",
    "***"
   ]
  },
  {
   "attachments": {},
   "cell_type": "markdown",
   "metadata": {},
   "source": [
    "### Problem 3. "
   ]
  },
  {
   "attachments": {},
   "cell_type": "markdown",
   "metadata": {},
   "source": [
    "Mr A. Gaylord manages a pension fund and believes that the his stock selection ability is excellent. However, he is worried because the market could go down. He considers entering an equity swap where each quarter $i$, up to quarter $M$, he pays counterparty B the previous quarters total rate of return $𝑟_𝑖$ on the S&P 500 index times some notional principal and receives payments at a fixed rate r on the same principal. The total rate of return includes dividends. Specifically, $1+𝑟_𝑖=(𝑆_𝑖+𝑑_𝑖)/𝑆_{𝑖−1}$ ,where $𝑆_𝑖$ and $𝑑_𝑖$ are the values of the index at $i$ and the dividends received from $i−1$ to $i$, respectively. Derive the value of such a swap by the following steps:<br/><br/>\n",
    "(a) Let $𝑉_{𝑖−1}(𝑆_𝑖+𝑑_𝑖)$ denote the value at time $i−1$ of receiving $𝑆_𝑖+𝑑_𝑖$ at time $i$. Argue that $𝑉_{𝑖−1}(𝑆_𝑖+𝑑_𝑖)=𝑆_{𝑖−1}$ and find $𝑉_{𝑖−1}(𝑟_𝑖)$<br/>\n",
    "(b) Find $𝑉_0(𝑟_𝑖)$<br/>\n",
    "(c) Find $\\sum_{𝑖=1}^M 𝑉_0(𝑟_𝑖)$<br/>\n",
    "(d) Find the value of the swap"
   ]
  },
  {
   "attachments": {},
   "cell_type": "markdown",
   "metadata": {},
   "source": [
    "*(a)* If I purchase the stock at time $i-1$ at price $S_{i-1}$, I can receive $S_i+d_i$ at time i. Thus, $V_{i-1}(S_i+d_i)=S_{i-1}$<br/>\n",
    "&nbsp;&nbsp;&nbsp;&nbsp;$V_{i-1}(r_i)=V_{i-1}((S_i+d_i)/S_{i-1}-1)=S_{i-1}/S_{i-1}-V_{i-1}(1)=1-d(i-1,i)$<br/>\n",
    "*(b)* by (a), $V_0(r_i)=V_{0}(1-d(i-1,i))=d(0,i-1)-d(0,i)$<br/>\n",
    "*(c)* by (b), $\\sum_{i=1}^MV_0(r_i)=\\sum_{i=1}^Md(0,i-1)-d(0,i)=d(0,0)-d(0,M)=1-d(0,M)$<br/>\n",
    "*(d)* Value of the swap $=\\left[\\sum_{i=1}^Md(0,i)r-\\sum_{i=1}^MV_0(r_i)\\right]N=\\left[\\sum_{i=1}^Md(0,i)r-\\left[1-d(0,M)\\right]\\right]N$(where $N$ is the notional principal)"
   ]
  },
  {
   "attachments": {},
   "cell_type": "markdown",
   "metadata": {},
   "source": [
    "***\n",
    "### Problem 4."
   ]
  },
  {
   "attachments": {},
   "cell_type": "markdown",
   "metadata": {},
   "source": [
    "Farmer D. Jones has a crop of grapefruit juice that will be ready for harvest and sale as 150, 000 pounds of grapefruit juice in 3 months. Jones is worried about possible price changes, so he is considering hedging. There is no futures contract for grapefruit juice, but there is a futures contract for orange juice. His son, Gavin, recently studied minimum-variance hedging and suggests it as a possible approach. Currently the spot prices are \\$1.20 per pound for orange juice and \\$1.50 per pound for grapefruit juice. The standard deviation of the prices of orange juice and grapefruit juice is about 20% per year, and the correlation coefficient between them is about .7. What is the minimum variance hedge for farmer Jones, and how effective is this hedge as compared to no hedge?"
   ]
  },
  {
   "attachments": {},
   "cell_type": "markdown",
   "metadata": {},
   "source": [
    "Hedging strategy: sell $y~pounds$ futures contracts of orange juice maturing in 3 months at $F_{0}^O$(future price per pound)<br/>\n",
    "Cash flow after 3 month\n",
    "- Futures position at maturity : $-S_{3mo}^O+F_0^O$\n",
    "- Selling 150,000 pounds grapefruit juice : $(150,000~pounds)\\times S_{3mo}^G$<br/>\n",
    "\n",
    "where $S_{3mo}^G$ is spot price of grapefruit juice and $S_{3mo}^O$ is spot price of orange juice in 3 month.\n",
    "\n",
    "Thus, Effective cash flow in 3 month is $$(150,000~pounds) \\times S_{3mo}^G - (y~pounds)\\times S_{3mo}^O+F_{0}^Oy (fixed)$$\n",
    "and its variance will be $$(150,000)^2\\times \\sigma_G^2+ y^2\\sigma _O^2-2\\times(150,000)y\\beta_{OG}\\sigma_O \\sigma_G$$ since $\\sigma_O=0.1\\times(\\$1.2)(=0.2/\\sqrt 4)=0.12,~\\sigma_G=0.1*(\\$1.5)=0.15,~\\beta_{OG}=0.7$, $$(150,000)^2\\times 0.15^2 + 0.12^2y^2-2\\times(150,000)\\times0.7\\times0.12\\times0.15y\\\\=506,250,000+0.0144y^2-3780y$$\n",
    "which has minimum value 258,187,500($SD=\\sqrt{Var}=16068.2$) at $y=131,250~ pounds$.<br/>\n",
    "Initial SD was $0.15 \\times (150,000) = 22,500$\n",
    "Thus, by this hedging, SD can be reduced 28.59%.\n",
    "***"
   ]
  },
  {
   "attachments": {},
   "cell_type": "markdown",
   "metadata": {},
   "source": [
    "### Problem 5. "
   ]
  },
  {
   "attachments": {},
   "cell_type": "markdown",
   "metadata": {},
   "source": [
    "A rabbit sits at the bottom of a staircase with n stairs. The rabbit can hop up only one or two or three stairs at a time. How many different combinations are there for the rabbit to ascend to the top of the stairs? Try to solve this problem with Python using recursive function."
   ]
  },
  {
   "attachments": {},
   "cell_type": "markdown",
   "metadata": {},
   "source": [
    "Define a function, $f(x)$, such that yields the number of combinations for the rabbit to ascend to the top of the stairs for remaining $x$ stairs. Then,\n",
    "\n",
    "$$\n",
    "f(x)=\n",
    "\\begin{cases}\n",
    "1, &x=1\\\\\n",
    "2, &x=2\\\\\n",
    "4, &x=3\\\\\n",
    "f(x-1) + f(x-2) + f(x-3), &x \\geq 4\\\\\n",
    "\\end{cases}\n",
    "$$"
   ]
  },
  {
   "cell_type": "code",
   "execution_count": 11,
   "metadata": {},
   "outputs": [],
   "source": [
    "def rabbitHop(n:int):\n",
    "    if(n==0):\n",
    "        return 1\n",
    "    if(n==1):\n",
    "        return 1\n",
    "    if(n==2):\n",
    "        return 2\n",
    "    return rabbitHop(n-1)+rabbitHop(n-2)+rabbitHop(n-3)"
   ]
  },
  {
   "cell_type": "code",
   "execution_count": 10,
   "metadata": {},
   "outputs": [
    {
     "name": "stdout",
     "output_type": "stream",
     "text": [
      "n=1 : 1\n",
      "n=2 : 2\n",
      "n=3 : 4\n",
      "n=4 : 7\n",
      "n=5 : 13\n",
      "n=6 : 24\n",
      "n=7 : 44\n",
      "n=8 : 81\n",
      "n=9 : 149\n",
      "n=10 : 274\n"
     ]
    }
   ],
   "source": [
    "for i in range(1,11):\n",
    "    print(\"n={} : {}\".format(i, rabbitHop(i)))"
   ]
  }
 ],
 "metadata": {
  "kernelspec": {
   "display_name": "base",
   "language": "python",
   "name": "python3"
  },
  "language_info": {
   "codemirror_mode": {
    "name": "ipython",
    "version": 3
   },
   "file_extension": ".py",
   "mimetype": "text/x-python",
   "name": "python",
   "nbconvert_exporter": "python",
   "pygments_lexer": "ipython3",
   "version": "3.8.8"
  },
  "orig_nbformat": 4,
  "vscode": {
   "interpreter": {
    "hash": "ad2bdc8ecc057115af97d19610ffacc2b4e99fae6737bb82f5d7fb13d2f2c186"
   }
  }
 },
 "nbformat": 4,
 "nbformat_minor": 2
}
