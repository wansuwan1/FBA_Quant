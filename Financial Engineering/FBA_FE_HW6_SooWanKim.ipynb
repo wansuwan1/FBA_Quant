{
 "cells": [
  {
   "attachments": {},
   "cell_type": "markdown",
   "metadata": {},
   "source": [
    "# FBA QUANT Financial Engineering HW 6\n",
    "KimSooWan(hse07088@snu.ac.kr)\n",
    "***"
   ]
  },
  {
   "cell_type": "code",
   "execution_count": 1196,
   "metadata": {},
   "outputs": [],
   "source": [
    "import pandas as pd\n",
    "import numpy as np"
   ]
  },
  {
   "attachments": {},
   "cell_type": "markdown",
   "metadata": {},
   "source": [
    "### Problem 1. \n",
    "Consider a 10-year zero-coupon bond with face value $100. The interest t rate is fixed at 5%. The credit spread for the bond is estimated to be 1% (except in part(a)). Calculate:\n",
    "\n",
    "(a) The bond value if there is no possibility of default\n",
    "\n",
    "(b) The probability of default\n",
    "\n",
    "(c) The value if there is no recovery\n",
    "\n",
    "(d) The value if there is 50% recovery at maturity\n",
    "\n",
    "(e) The value of $100 that is paid at default"
   ]
  },
  {
   "attachments": {},
   "cell_type": "markdown",
   "metadata": {},
   "source": [
    "sol)\n",
    "\n",
    "(a) $\\$100 *(1+0.05)^{-10}=\\$61.39$\n",
    "\n",
    "(b) Since there are no recovery rate given, let's approximaze the hazard rate with a credit spread, 0.01.\n",
    "\n",
    "The default probability per year is 0.01, and, the total probability to default over the period until maturity is $1-(1-0.01)^{10}=0.0956$.\n",
    "\n",
    "**NOTE THAT, since the credit spread is 0.01, by discounting the $\\$100$ by the default-risk-permium-added-rate of 0.05+0.01=0.06, the price of the defaultable bond becomes $\\$100*(1+0.06)^{-10} = \\$55.84$ for both (C) and (d).*\n",
    "\n",
    "*However, let's price the defaultable bond based on the approximated hazard rate in part (b).*\n",
    "\n",
    "(c) For a zero coupon bond with recovery rate 0, there are no other payments until the maturity, and the holder recieve the face value of $\\$100$ only if the bond does not default. \n",
    "\n",
    "Therefore, the price of the bond will be $\\$100*(1-0.0956)*(1+0.05)^{-10}=\\$55.52$\n",
    "\n",
    "(d) With a 50% recovery at maturity, the holder becomes entitled to recieve $\\$100 * 50\\% = \\$50$ on maturity even if the bond has defaulted.\n",
    "\n",
    "Therefore, the price of the bond will slightly increase by $\\$50*0.0956*(1+0.05)^{-10}=\\$2.94$ to $\\$58.18$"
   ]
  },
  {
   "cell_type": "code",
   "execution_count": 2,
   "metadata": {},
   "outputs": [
    {
     "data": {
      "text/plain": [
       "62.93434517604981"
      ]
     },
     "execution_count": 2,
     "metadata": {},
     "output_type": "execute_result"
    }
   ],
   "source": [
    "# (e) if $100 is paid when the bond defaults\n",
    "\n",
    "face_value = 100\n",
    "maturity = 10\n",
    "survival_prob = 1\n",
    "hazard_rate = 0.01\n",
    "interest_rate = 0.05\n",
    "recovery = 100\n",
    "discount_rate = 1\n",
    "NPV = 0\n",
    "\n",
    "for i in range(maturity):\n",
    "    discount_rate /= (1+interest_rate)\n",
    "    \n",
    "    default_this_period_prob = survival_prob*hazard_rate\n",
    "    NPV += default_this_period_prob*recovery*discount_rate\n",
    "    \n",
    "    survival_prob *= (1-hazard_rate)\n",
    "    \n",
    "    if i==maturity-1:\n",
    "        NPV += survival_prob*face_value*discount_rate\n",
    "        \n",
    "NPV"
   ]
  },
  {
   "attachments": {},
   "cell_type": "markdown",
   "metadata": {},
   "source": [
    "***\n",
    "### Problem 2.\n",
    "Consider the interest-only (IO) and principal-only (PO) securities in a deterministic world without prepayments and defaults. These securities have time k cash-flows of $𝑃_𝑘≔𝐵−𝑐𝑀_{𝑘−1}$ and $𝐼_𝑘≔𝑐𝑀_{𝑘−1}$, respectively, for k=1,⋯,n and where $𝑀_𝑘$ (and all other notation) is defined in Coursera.\n",
    "\n",
    "(a) Compute the present value, $𝑉_0$, of the PO security\n",
    "\n",
    "(b) What happens to $𝑉_0$ as $n→∞$?\n",
    "\n",
    "(c) Compute the present value, $𝑊_0$, of the IO security\n",
    "\n",
    "(d) Which of the two securities do you think has the longer duration? Justify your answer."
   ]
  },
  {
   "attachments": {},
   "cell_type": "markdown",
   "metadata": {},
   "source": [
    "sol)\n",
    "\n",
    "Set fixed interest rate at $r$. \n",
    "\n",
    "Than,\n",
    "\n",
    "$M_k = M_{k-1} - P_k = M_{k-1}(1+c)-B = \\cdots = M_0(1+c)^k - B\\frac{(1+c)^n-1}{c}$\n",
    "\n",
    "$M_n = M_0(1+c)^n -B\\frac{(1+c)^n -1}{c} = 0$\n",
    "\n",
    "Thus, \n",
    "\n",
    "$$\\begin{matrix} B &=& \\frac{cM_0(1+c)^n}{(1+c)^n-1} \\\\ M_k &=& M_0\\frac{(1+c)^n-(1+c)^k}{(1+c)^n-1} \\\\ P_k &=& M_{k-1} - M_k = cM_0\\frac{(1+c)^{k-1}}{(1+c)^n -1} \\\\ I_k &=& cM_{k-1} = cM_0\\frac{(1+c)^n-(1+c)^{k-1}}{(1+c)^n -1} \\end{matrix}$$\n",
    "\n",
    "(a) $V_0$\n",
    "\n",
    "$\\begin{matrix} V_0 &=& \\sum_{k=1}^n PV(P_k) &=& \\sum_{k=1}^n \\frac{cM_0}{(1+r)^k} \\frac{(1+c)^{k-1}}{(1+c)^n -1} &=& \\frac{cM_0}{(1+c)^n-1}\\frac{(1+r)^n - (1+c)^n}{(1+r)^n(r-c)} \\end{matrix}$\n",
    "\n",
    "(b) $\\lim\\limits_{n\\to\\infty} V_0$\n",
    "\n",
    "$\\lim\\limits_{n\\to\\infty}V_0 = \\lim \\limits_{n\\to\\infty}(\\frac{cM_0}{((1+c)^n-1)(r-c)}-\\frac{cM_0}{(1-(1+c)^{-n})}\\frac{1}{(1+r)^n(r-c)}) = 0$\n",
    "\n",
    "(c) $W_0$\n",
    "\n",
    "$W_0 = \\sum_{k=1}^n PV(I_k) = \\sum_{k=1}^n \\frac{1}{(1+r)^k} cM_0 \\frac{(1+c)^n-(1+c)^{k-1}}{(1+c)^n-1} = \\frac{cM_0(1+c)^n}{(1+c)^n-1}\\frac{(1+r)^n-1}{r(1+r)^n}-\\frac{cM_0}{(1+r)^n-1}\\frac{(1+r)^n-(1+c)^n}{(1+r)^n(r-c)}$\n",
    "\n",
    "(d) \n",
    "\n",
    "ans) $V_0$\n",
    "\n",
    "Although both $V_0$ and $W_0$ are paid for the same period until the maturity of MBS, the cash flow of $W_0$ is more concentrated in the early stages and diminishes as it approaches maturity, while that of $V_0$ remains equal across the entire period."
   ]
  },
  {
   "attachments": {},
   "cell_type": "markdown",
   "metadata": {},
   "source": [
    "***\n",
    "### Problem 3.\n",
    "We can define the default intensity, $\\lambda(t)$ to be $$\\lambda(t)≔ \\frac{𝑓_\\tau(𝑡)}{𝑃(\\tau>𝑡)}$$\n",
    "where $\\tau$ is the time of default and $𝑓_\\tau(∙)$ is the PDF of $\\tau$. It therefore follows that $\\lambda(t)dt$ is equal to the probability of defaulting in the interval $(t,t+dt)$ given that default has not occurred in $[0,t]$. Show that $$P(\\tau>s)=𝑒^{−∫_0^s\\lambda(𝑡)𝑑𝑡}$$"
   ]
  },
  {
   "attachments": {},
   "cell_type": "markdown",
   "metadata": {},
   "source": [
    "sol)\n",
    "\n",
    "From the definition of $\\lambda(t)$, we can derive the followings:\n",
    "$$f_\\tau(t) = \\lambda(t)P(\\tau > t)$$\n",
    "\n",
    "$$P(\\tau >s) = 1 - \\int_0^s f_\\tau(t) dt = 1- \\int_0^s \\lambda(t)P(\\tau >t) dt$$\n",
    "\n",
    "By differentiating both side by s, we obtain\n",
    "\n",
    "$$\\frac{\\delta P(\\tau >s)}{\\delta s} = - \\lambda(s) P(\\tau > s)$$\n",
    "\n",
    "$$\\frac{1}{P(\\tau>s)}\\delta(P(\\tau>s)) = - \\lambda(s) \\delta s$$\n",
    "\n",
    "Thus, \n",
    "\n",
    "$$\\int_{t=0}^{t=s} \\frac{1}{P(\\tau>t)}d(P(\\tau>t)) =- \\int_0^s \\lambda(t) dt$$\n",
    "\n",
    "$$ln(P(\\tau >s)) = - \\int_0^s\\lambda(t)dt$$\n",
    "\n",
    "$$P(\\tau>s) = e^{-\\int_0^s\\lambda(t)dt}$$"
   ]
  },
  {
   "attachments": {},
   "cell_type": "markdown",
   "metadata": {},
   "source": [
    "***\n",
    "### Problem 4.\n",
    "Let $𝑋_1$ and $𝑋_2$ be IID random variables with uniform distribution between 0 and 1, $Y=min(𝑋_1,𝑋_2)$ and $Z=max (𝑋_1,𝑋_2)$. What is the probability of $Y≥y$ given that $Z≤z$ for any $y,z∈[0,1]$? What is the correlation of Y and Z?"
   ]
  },
  {
   "attachments": {},
   "cell_type": "markdown",
   "metadata": {},
   "source": [
    "sol) \n",
    "\n",
    "Note that $X_1, X_2 \\sim U(0,1)$\n",
    "\n",
    "Since $Pr(Y\\geq y) = Pr(X_1, X_2 \\geq y) = Pr(X_1 \\geq y) Pr(X_2 \\geq y) = (1-y)^2I_{0 \\leq y \\leq 1}$,\n",
    "\n",
    "$$f_Y(y) = \\frac{\\delta Pr(Y \\geq y)}{\\delta (-y)} = 2(1-y)I_{0 \\leq y \\leq 1}$$\n",
    "\n",
    "Similarly, $Pr(Z \\leq z) = Pr(X_1, X_2 \\leq z) = z^2 I_{0 \\leq z \\leq 1}$ and thus, $$f_Z(z) = \\frac{\\delta Pr(Z \\leq z)}{\\delta z} = 2z I_{0 \\leq z \\leq 1}$$\n",
    "\n",
    "Moreover, $Pr(Y \\geq y, Z \\leq z) = Pr(y \\leq X_1, X_2 \\leq z) = Pr(y \\leq X_1 \\leq z)Pr(y \\leq X_2 \\leq z) = (z-y)^2 I_{0 \\leq y \\leq z \\leq 1}$ from which we can yeild $$f_{Y,Z}(y,z) = \\frac{\\delta^2 Pr(Y \\geq y, Z \\leq z)}{\\delta (-y) \\delta z} = 2I_{0 \\leq y \\leq z \\leq 1}$$\n",
    "\n",
    "Using the pdfs and cdfs we have obtained, we can calculate the probability of $Y \\geq y$ given that $Z \\leq z$ as follows : $$Pr(Y \\geq y | Z \\leq z) = \\frac{Pr(Y \\geq y, Z \\leq z)}{Pr(Z \\leq z)} = \\frac{(z-y)^2}{z^2} I_{0\\leq y \\leq z \\leq 1}$$\n",
    "\n",
    "Furthermore, we can also calculate the means and variances of Y,Z.\n",
    "\n",
    "$$E(Y) = \\int_0^1 y 2(1-y) dy = \\frac{1}{3}$$\n",
    "\n",
    "$$E(Y^2) = \\int_0^1 y^2 2(1-y) dy = \\frac{1}{6}$$\n",
    "\n",
    "$$Var(Y) = E(Y^2) - E(Y)^2 = \\frac {1}{18}$$\n",
    "\n",
    "If we select $X_1', X_2'$ as $X_1' = 1 - X_1$, $X_2' = 1-X_2$, new $Y', Z'$ become $Y' = 1-Z$, $Z' = 1-Y$ and still has the same distribution $Y' \\sim Y, Z' \\sim Z$.\n",
    "\n",
    "Thus, \n",
    "\n",
    "$$E(Z) = 1- E(Y) = \\frac{2}{3}$$\n",
    "\n",
    "$$Var(Z) = Var(Y) = \\frac{1}{18}$$\n",
    "\n",
    "Therefore,\n",
    "\n",
    "$$E(YZ) = \\int_0^1 \\int_y^1 2yz dz dy = \\frac{1}{4}$$\n",
    "\n",
    "$$Cov(Y,Z) = E(YZ) - E(Y)E(Z) = \\frac{1}{36}$$\n",
    "\n",
    "$$Corr(Y,Z) = \\frac{Cov(Y,Z)}{sd(Y)sd(Z)} = 0.5$$"
   ]
  }
 ],
 "metadata": {
  "kernelspec": {
   "display_name": "base",
   "language": "python",
   "name": "python3"
  },
  "language_info": {
   "codemirror_mode": {
    "name": "ipython",
    "version": 3
   },
   "file_extension": ".py",
   "mimetype": "text/x-python",
   "name": "python",
   "nbconvert_exporter": "python",
   "pygments_lexer": "ipython3",
   "version": "3.8.8"
  },
  "orig_nbformat": 4,
  "vscode": {
   "interpreter": {
    "hash": "ad2bdc8ecc057115af97d19610ffacc2b4e99fae6737bb82f5d7fb13d2f2c186"
   }
  }
 },
 "nbformat": 4,
 "nbformat_minor": 2
}
