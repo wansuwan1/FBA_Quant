{
 "cells": [
  {
   "attachments": {},
   "cell_type": "markdown",
   "id": "76fa919c",
   "metadata": {},
   "source": [
    "\n",
    "# FBA QUANT Financial Engineering HW 1"
   ]
  },
  {
   "cell_type": "markdown",
   "id": "e7538cef",
   "metadata": {},
   "source": [
    "KimSooWan(hse07088@snu.ac.kr)"
   ]
  },
  {
   "cell_type": "code",
   "execution_count": 18,
   "id": "27286ab5",
   "metadata": {},
   "outputs": [],
   "source": [
    "import numpy as np\n",
    "import math\n",
    "import scipy.stats\n",
    "import matplotlib.pyplot as plt\n",
    "import time"
   ]
  },
  {
   "cell_type": "markdown",
   "id": "24af060f",
   "metadata": {},
   "source": [
    "### Problem1"
   ]
  },
  {
   "cell_type": "markdown",
   "id": "036c819f",
   "metadata": {},
   "source": [
    " An investor deposits $15,000 in a bank today at 6% annual interest. Assuming that no additional deposits are made, and that no money is withdrawn, how large will the account balance be 23 years from today if<br/>\n",
    "(a) the interest is computed using the simple interest convention?<br/>\n",
    "(b) the interest is compounded annually?<br/>\n",
    "(c) the interest is compounded quarterly?<br/>\n",
    "(d) the interest is compounded monthly?<br/>\n",
    "(e) the interest is compounded continuously?<br/>\n",
    "(You should assume that the 6% annual interest rate applies to deposits of any length.)"
   ]
  },
  {
   "cell_type": "markdown",
   "id": "37209aff",
   "metadata": {},
   "source": [
    "a)"
   ]
  },
  {
   "cell_type": "code",
   "execution_count": 19,
   "id": "897ecccc",
   "metadata": {},
   "outputs": [
    {
     "data": {
      "text/plain": [
       "35700"
      ]
     },
     "execution_count": 19,
     "metadata": {},
     "output_type": "execute_result"
    }
   ],
   "source": [
    "def simple_interest_convetion(init, years, rate):\n",
    "    return int(init * (1 + rate * years))\n",
    "simple_interest_convetion(15000, 23, 0.06)"
   ]
  },
  {
   "cell_type": "markdown",
   "id": "c0a238b9",
   "metadata": {},
   "source": [
    "b,c,d)"
   ]
  },
  {
   "cell_type": "code",
   "execution_count": 20,
   "id": "87462ed3",
   "metadata": {},
   "outputs": [
    {
     "name": "stdout",
     "output_type": "stream",
     "text": [
      "57296\n",
      "59015\n",
      "59418\n"
     ]
    }
   ],
   "source": [
    "def compound(init, years, rate, n) :\n",
    "    return int(init * (1+rate/n)**(years*n))\n",
    "print( compound(15000, 23, 0.06, 1))\n",
    "print( compound(15000, 23, 0.06, 4))\n",
    "print( compound(15000, 23, 0.06, 12))"
   ]
  },
  {
   "cell_type": "markdown",
   "id": "b0a969b8",
   "metadata": {},
   "source": [
    "e)"
   ]
  },
  {
   "cell_type": "code",
   "execution_count": 21,
   "id": "fc7541a8",
   "metadata": {},
   "outputs": [
    {
     "data": {
      "text/plain": [
       "59623"
      ]
     },
     "execution_count": 21,
     "metadata": {},
     "output_type": "execute_result"
    }
   ],
   "source": [
    "def continuous_compound(init, years, rate) :\n",
    "    return int(init * np.exp(rate*years))\n",
    "continuous_compound(15000, 23, 0.06)"
   ]
  },
  {
   "cell_type": "markdown",
   "id": "dc68ede1",
   "metadata": {},
   "source": [
    "### Problem 2. "
   ]
  },
  {
   "cell_type": "markdown",
   "id": "7bfcd898",
   "metadata": {},
   "source": [
    "If you buy a lottery ticket in 50 lotteries, in each of which your chances of winning a prize of 1/100, what is the probability that you will win a prize: <br/>        (a) at least once?<br/>\n",
    "        (b) exactly twice?<br/>\n",
    "        (c) at least twice?<br/>\n",
    "    Calculate both the exact probabilities (using the binomial distribution) and the approximate probabilities (using the Poisson distribution)."
   ]
  },
  {
   "cell_type": "markdown",
   "id": "f7dcfc88",
   "metadata": {},
   "source": [
    "- binomial distribution"
   ]
  },
  {
   "cell_type": "code",
   "execution_count": 22,
   "id": "fa31b2db",
   "metadata": {},
   "outputs": [],
   "source": [
    "def binomial_distribution(p, n, result):\n",
    "    return p**result * (1-p)**(n-result) * (math.factorial(n)/math.factorial(result)/math.factorial(n-result))"
   ]
  },
  {
   "cell_type": "markdown",
   "id": "b5f8d0ec",
   "metadata": {},
   "source": [
    "    a)"
   ]
  },
  {
   "cell_type": "code",
   "execution_count": 23,
   "id": "6bd83abd",
   "metadata": {},
   "outputs": [
    {
     "data": {
      "text/plain": [
       "0.39499393286246365"
      ]
     },
     "execution_count": 23,
     "metadata": {},
     "output_type": "execute_result"
    }
   ],
   "source": [
    "1-binomial_distribution(0.01, 50, 0)"
   ]
  },
  {
   "cell_type": "markdown",
   "id": "128c559e",
   "metadata": {},
   "source": [
    "    b)"
   ]
  },
  {
   "cell_type": "code",
   "execution_count": 24,
   "id": "509875b8",
   "metadata": {},
   "outputs": [
    {
     "data": {
      "text/plain": [
       "0.07561804226543029"
      ]
     },
     "execution_count": 24,
     "metadata": {},
     "output_type": "execute_result"
    }
   ],
   "source": [
    "binomial_distribution(0.01, 50, 2)"
   ]
  },
  {
   "cell_type": "markdown",
   "id": "edcfded9",
   "metadata": {},
   "source": [
    "    c)"
   ]
  },
  {
   "cell_type": "code",
   "execution_count": 25,
   "id": "6144de78",
   "metadata": {},
   "outputs": [
    {
     "name": "stdout",
     "output_type": "stream",
     "text": [
      "0.08943531309603114\n"
     ]
    }
   ],
   "source": [
    "print(1 - binomial_distribution(0.01, 50, 0) - binomial_distribution(0.01, 50, 1))"
   ]
  },
  {
   "cell_type": "markdown",
   "id": "3698b112",
   "metadata": {},
   "source": [
    "- poisson distribution"
   ]
  },
  {
   "cell_type": "code",
   "execution_count": 26,
   "id": "6eedc716",
   "metadata": {},
   "outputs": [],
   "source": [
    "def poission_distribution(_lambda, k):\n",
    "    return (_lambda**k * np.exp(-_lambda)/math.factorial(k))"
   ]
  },
  {
   "cell_type": "markdown",
   "id": "8e2ffb1a",
   "metadata": {},
   "source": [
    "    a)"
   ]
  },
  {
   "cell_type": "code",
   "execution_count": 27,
   "id": "11379b87",
   "metadata": {},
   "outputs": [
    {
     "data": {
      "text/plain": [
       "0.3934693402873666"
      ]
     },
     "execution_count": 27,
     "metadata": {},
     "output_type": "execute_result"
    }
   ],
   "source": [
    "1 - poission_distribution(0.01 * 50, 0)"
   ]
  },
  {
   "cell_type": "markdown",
   "id": "c4dcb1f7",
   "metadata": {},
   "source": [
    "    b)"
   ]
  },
  {
   "cell_type": "code",
   "execution_count": 28,
   "id": "9b52eb9d",
   "metadata": {},
   "outputs": [
    {
     "data": {
      "text/plain": [
       "0.07581633246407918"
      ]
     },
     "execution_count": 28,
     "metadata": {},
     "output_type": "execute_result"
    }
   ],
   "source": [
    "poission_distribution(0.01 * 50, 2)"
   ]
  },
  {
   "cell_type": "markdown",
   "id": "e3995f40",
   "metadata": {},
   "source": [
    "    c)"
   ]
  },
  {
   "cell_type": "code",
   "execution_count": 29,
   "id": "ad8a7717",
   "metadata": {},
   "outputs": [
    {
     "data": {
      "text/plain": [
       "0.09020401043104986"
      ]
     },
     "execution_count": 29,
     "metadata": {},
     "output_type": "execute_result"
    }
   ],
   "source": [
    "1- poission_distribution(0.01 * 50, 0) - poission_distribution(0.01 * 50, 1)"
   ]
  },
  {
   "cell_type": "markdown",
   "id": "b492f591",
   "metadata": {},
   "source": [
    "### Problem 3."
   ]
  },
  {
   "attachments": {},
   "cell_type": "markdown",
   "id": "1571672a",
   "metadata": {},
   "source": [
    "Consider the following situation: $𝑌∼𝑁(μ,σ^2)$ $(𝑋∣∣𝑌=𝑦)∼𝑁(𝑦,v^2)$ We want to find the distribution of 𝑋.<br/>\n",
    "(a) Find $𝑓_{𝑋𝑌}(𝑥,𝑦)$ and then use a Law of Total Probability to determine the distribution of 𝑋 $$𝑓_𝑋(𝑥)=\\int𝑓_{𝑋|𝑌}( 𝑥 | 𝑦 )𝑓_𝑌(𝑦)𝑑𝑦$$ <br/>\n",
    "(b) Find the MGF 𝑀𝑋(𝑡) and determine the distribution of 𝑋<br/>\n",
    "$$𝑀_𝑋(𝑡)=𝐸(𝑒^{𝑡𝑋})=𝐸[𝐸(𝑒^{𝑡𝑋}∣∣𝑌)]$$\n",
    "where the “inner” expected value, $𝐸(𝑒^{𝑡𝑋}∣∣𝑌)$ is the moment generating function of the random variable $(𝑋∣∣𝑌=𝑦)$"
   ]
  },
  {
   "attachments": {},
   "cell_type": "markdown",
   "id": "d1b7ce41",
   "metadata": {},
   "source": [
    "    (a)\n",
    "$$\n",
    "\\begin{align*}\n",
    "f_{XY}(x,y) &= f_{X|Y}(x|y)f_Y(y)\\\\\n",
    "&=\\frac{1}{|v|\\sqrt{2\\pi}}  e^{-\\frac{1}{2}    \\left(\\frac{x-y}{v}\\right)^2}    \\frac{1}{|\\sigma|\\sqrt{2\\pi}}e^{-\\frac{1}{2}    \\left(\\frac{y-\\mu}{\\sigma}\\right)^2}\\\\\n",
    "&=\\frac{1}{|v\\sigma|\\sqrt{2\\pi}}\\exp \\left(     -\\frac{1}{2}\\left(    \\frac{    \\sigma^2x^2-    2\\sigma^2 xy + \\sigma^2 y^2 + v^2y^2 - 2v^2y\\mu + v^2\\mu^2    }{v^2 \\sigma^2}    \\right)   \\right)\\\\\n",
    "&=\\frac{1}{|v\\sigma|\\sqrt{2\\pi}}\\exp \\left(     -\\frac{1}{2}\\left(    \\frac{  (\\sigma^2 + v^2)y^2 - 2(\\sigma^2 x + v^2 \\mu)y + \\sigma^2 x^2 + v^2 \\mu^2  }{v^2 \\sigma^2}    \\right)   \\right)\\\\\n",
    "&=\\frac{1}{|v\\sigma|\\sqrt{2\\pi}}\\exp \\left(     -\\frac{1}{2} \\frac{\\left( y - \\frac{\\sigma^2 x + v^2 y}{\\sigma^2 v^2}\\right)^2}{\\frac{v^2 \\sigma^2}{\\sigma^2+ v^2}}   \\right)\\exp\\left(   -\\frac{1}{2}       \\left(      \\frac{       \\sigma^2x^2+v^2\\mu^2-            \\frac{   (\\sigma^2 x + v^2 \\mu)^2     }{    \\sigma^2+ v^2    }                }{v^2 \\sigma^2}         \\right)      \\right)\n",
    "\\end{align*}\n",
    "$$"
   ]
  },
  {
   "cell_type": "markdown",
   "id": "72dc924a",
   "metadata": {},
   "source": [
    "$$\n",
    "\\begin{align*}\n",
    "f_X(x) &= \\int f_{XY}(x,y)dy\\\\\n",
    "&= \\int \\frac{1}{|v\\sigma|\\sqrt{2\\pi}}\\exp \\left(     -\\frac{1}{2} \\frac{\\left( y - \\frac{\\sigma^2 x + v^2 y}{\\sigma^2 v^2}\\right)^2}{\\frac{v^2 \\sigma^2}{\\sigma^2+ v^2}}   \\right)\\exp\\left(   -\\frac{1}{2}       \\left(      \\frac{       \\sigma^2x^2+v^2\\mu^2-            \\frac{   (\\sigma^2 x + v^2 \\mu)^2     }{    \\sigma^2+ v^2    }                }{v^2 \\sigma^2}         \\right)      \\right)dy\\\\\n",
    "&= \\frac{1}{|v\\sigma|\\sqrt{2\\pi}}\\exp\\left(   -\\frac{1}{2}       \\left(      \\frac{       \\sigma^2x^2+v^2\\mu^2-            \\frac{   (\\sigma^2 x + v^2 \\mu)^2     }{    \\sigma^2+ v^2    }                }{v^2 \\sigma^2}         \\right)      \\right)\\int \\exp \\left(     -\\frac{1}{2} \\frac{\\left( y - \\frac{\\sigma^2 x + v^2 y}{\\sigma^2 v^2}\\right)^2}{\\frac{v^2 \\sigma^2}{\\sigma^2+ v^2}}   \\right)dy\\\\\n",
    "&= \\frac{1}{|v\\sigma|\\sqrt{2\\pi}}\\exp\\left(   -\\frac{1}{2}       \\left(      \\frac{       \\sigma^2x^2+v^2\\mu^2-            \\frac{   (\\sigma^2 x + v^2 \\mu)^2     }{    \\sigma^2+ v^2    }                }{v^2 \\sigma^2}         \\right)      \\right)\\sqrt{\\frac{\\sigma^2 v^2 }{\\sigma^2 + v^2}}\\sqrt{2\\pi}\\\\\n",
    "&= \\frac{1}{\\sqrt{\\sigma^2 + v^2}\\sqrt{2\\pi}}\\exp \\left( -\\frac{1}{2}     \\left(     \\frac{\\sigma^2 v^2 (x-\\mu)^2}{\\sigma^2 v^2(\\sigma^2 +v^2)}       \\right)      \\right)\\\\\n",
    "&=\\frac{1}{\\sqrt{\\sigma^2 + v^2}\\sqrt{2\\pi}}\\exp \\left( -\\frac{1}{2}     \\left(     \\frac{x-\\mu}{\\sqrt{\\sigma^2 +v^2}} \\right)^2\\right)\n",
    "\\end{align*}\n",
    "$$\n",
    "\n",
    "$$\n",
    "\\therefore X \\sim N( \\mu, \\sigma^2 + v^2)\n",
    "$$"
   ]
  },
  {
   "attachments": {
    "image.png": {
     "image/png": "[encoded data removed]"
    }
   },
   "cell_type": "markdown",
   "id": "a2c33e90",
   "metadata": {},
   "source": [
    "    (b)\n",
    "![image.png](attachment:image.png)"
   ]
  },
  {
   "cell_type": "markdown",
   "id": "0e8047cf",
   "metadata": {},
   "source": [
    "### Problem 4."
   ]
  },
  {
   "attachments": {},
   "cell_type": "markdown",
   "id": "8e250215",
   "metadata": {},
   "source": [
    "Many people believe that the daily change of price of a company’s stock on the stock market is a random variable with mean 0 and variance $\\sigma^2$. That is, if $𝑆_𝑡$ represents the price of the stock on the $𝑡$-th day, then $𝑆_𝑡=𝑆_𝑡−1+𝑊_𝑡, 𝑡≥1$\n",
    "where $𝑊_1,𝑊_2,⋯,$ are independent and identically distributed random variables with mean 0 and variance $\\sigma_2$. Suppose that the stock’s price today is 100 and $\\sigma_2=1$.<br/>\n",
    "(a) What can you say about the probability that the stock’s price will exceed 105 after 10 days? (Hint: Chebyshev inequality)<br/>\n",
    "(b) Suppose $𝑊_1,𝑊_2,⋯,$ are independent and identically distributed Normal random variables with mean 0 and variance $\\sigma^2$. What is the probability that the stock’s price will exceed 105 after 10 days?<br/>\n",
    "(c) Simulate $𝑀=10,000$ trajectories of the stock price $𝑆_𝑡$ for $𝑡=0,1,...,10.$ Plot 10 pairs of trajectories of the stock and calculate the probability that the stock’s price exceeds 105 after 10 days."
   ]
  },
  {
   "attachments": {
    "image.png": {
     "image/png": "[encoded data removed]"
    }
   },
   "cell_type": "markdown",
   "id": "03e436c9",
   "metadata": {},
   "source": [
    "    (a)\n",
    "![image.png](attachment:image.png)"
   ]
  },
  {
   "cell_type": "markdown",
   "id": "7a46bbee",
   "metadata": {},
   "source": [
    "    (b)\n",
    "$S_{10} - S_0 $ ~ $ N(0, 10)~~~~~~~\\therefore P(S_{10} - S_0 \\leq 5) = $"
   ]
  },
  {
   "cell_type": "code",
   "execution_count": 30,
   "id": "e4167ff0",
   "metadata": {},
   "outputs": [
    {
     "data": {
      "text/plain": [
       "0.056923149003329065"
      ]
     },
     "execution_count": 30,
     "metadata": {},
     "output_type": "execute_result"
    }
   ],
   "source": [
    "1 - scipy.stats.norm(loc = 0, scale = math.sqrt(10)).cdf(5)"
   ]
  },
  {
   "cell_type": "markdown",
   "id": "5bb6e919",
   "metadata": {},
   "source": [
    "    (c)"
   ]
  },
  {
   "cell_type": "code",
   "execution_count": 31,
   "id": "eebcb52b",
   "metadata": {},
   "outputs": [
    {
     "data": {
      "image/png": "[encoded data removed]",
      "text/plain": [
       "<Figure size 432x288 with 1 Axes>"
      ]
     },
     "metadata": {
      "needs_background": "light"
     },
     "output_type": "display_data"
    },
    {
     "name": "stdout",
     "output_type": "stream",
     "text": [
      " the probability that the stock’s price exceeds 105 after 10 days : 0.0575\n"
     ]
    }
   ],
   "source": [
    "n = 0\n",
    "for i in range(10000):\n",
    "    trajectory = [100]\n",
    "    for j in range(10):\n",
    "        trajectory.append(trajectory[-1]+np.random.normal(loc=0.0, scale=1.0))\n",
    "    if(trajectory[-1]>=105):\n",
    "        n+=1\n",
    "    if(i<10):\n",
    "        plt.plot(trajectory)\n",
    "\n",
    "plt.show()\n",
    "print(\" the probability that the stock’s price exceeds 105 after 10 days : {}\".format(n/10000))"
   ]
  },
  {
   "cell_type": "markdown",
   "id": "206bb881",
   "metadata": {},
   "source": [
    "### Problem 5."
   ]
  },
  {
   "attachments": {},
   "cell_type": "markdown",
   "id": "ba2a364c",
   "metadata": {},
   "source": [
    "The IRR is generally calculated using an iterative procedure. Suppose that we define $𝑓(λ)=−𝑎_0+𝑎_1λ+𝑎_2λ^2+⋯+𝑎_𝑛λ^𝑛$, where all $𝑎_𝑖$ are positive and $𝑛>1$. Here is an iterative technique that generates a sequence $λ_0,λ_1,λ_2,…,λ_𝑘,…$ of estimates that converges to the root $\\bar\\lambda>0$, solving $𝑓(\\bar\\lambda)=0$. Start with any $λ_0>0$ close to the solution. Assuming $λ_𝑘$ has been calculated, evaluate $$𝑓′(λ_𝑘)=𝑎_1+2𝑎_2λ_𝑘+3𝑎_3λ_𝑘^2+⋯+𝑛𝑎_𝑛λ_𝑘^{𝑛−1}$$ \n",
    "and define $$λ_{𝑘+1}=λ_𝑘−\\frac{𝑓(λ_𝑘)}{𝑓′(λ_𝑘)}$$\n",
    "Try the procedure on $𝑓(λ)=−1+λ+λ^2$ starting with $λ_0=1$.<br/>\n",
    "(a) Write a Python function to calculate $\\bar\\lambda$ accurate up to 0.000001 and compute the computation time<br/>\n",
    "(b) Use the Bisection method to calculate $\\bar\\lambda$ accurate up to 0.000001 and compare the computation time with the result from (a)"
   ]
  },
  {
   "cell_type": "code",
   "execution_count": 32,
   "id": "4e8f78ee",
   "metadata": {},
   "outputs": [],
   "source": [
    "def f(_lambda):\n",
    "    return -1+_lambda+_lambda**2\n",
    "def derivativeF(_lambda):\n",
    "    return 1+2*_lambda"
   ]
  },
  {
   "cell_type": "markdown",
   "id": "b5957796",
   "metadata": {},
   "source": [
    "    (a)"
   ]
  },
  {
   "cell_type": "code",
   "execution_count": 33,
   "id": "d055b067",
   "metadata": {},
   "outputs": [
    {
     "name": "stdout",
     "output_type": "stream",
     "text": [
      "result = 0.618033988749989, compuration time : 0.0\n"
     ]
    }
   ],
   "source": [
    "_lambda = 1\n",
    "precision = 0.000001\n",
    "gradient = 1\n",
    "start = time.time()\n",
    "while(gradient>precision):\n",
    "    gradient = f(_lambda)/derivativeF(_lambda)\n",
    "    _lambda -= gradient\n",
    "end = time.time()\n",
    "print(\"result = {}, compuration time : {}\".format(_lambda, (start-end)*1000))"
   ]
  },
  {
   "cell_type": "markdown",
   "id": "433fe7c0",
   "metadata": {},
   "source": [
    "    (b)"
   ]
  },
  {
   "cell_type": "code",
   "execution_count": 34,
   "id": "fafec992",
   "metadata": {},
   "outputs": [
    {
     "name": "stdout",
     "output_type": "stream",
     "text": [
      "result = 0.6180338859558105, compuration time : 0.0\n"
     ]
    }
   ],
   "source": [
    "high = 1\n",
    "low = 0\n",
    "precision = 0.000001\n",
    "start = time.time()\n",
    "while(high-low>0.000001):\n",
    "    mid = (high + low)/2\n",
    "    if(f(mid)>0):\n",
    "        high = mid\n",
    "    elif(f(mid)<0):\n",
    "        low = mid\n",
    "    else:\n",
    "        break\n",
    "end = time.time()\n",
    "print(\"result = {}, compuration time : {}\".format((high+low)/2, (start-end)))"
   ]
  },
  {
   "cell_type": "markdown",
   "id": "72d9218f",
   "metadata": {},
   "source": [
    "### Problem 6."
   ]
  },
  {
   "cell_type": "markdown",
   "id": "bf580eed",
   "metadata": {},
   "source": [
    "Given N points drawn randomly on the circumference of a circle, what is the probability that they are all within a semicircle?"
   ]
  },
  {
   "cell_type": "markdown",
   "id": "c3f5593e",
   "metadata": {},
   "source": [
    "Assume max $\\theta$ between N points is $\\theta_{max}$, choosing two end points of $\\theta_{max}$ will be n(n-1) cases. Place one anywhere on the circle, then probability the other to be placed at $\\theta_{max}$ of the initial one became $\\frac{d\\theta}{2\\pi}$. Lastly, probability of other (n-2) points to be placed in $\\theta_{max}$ arc of two points is$\\frac{\\theta}{2\\pi}$ each."
   ]
  },
  {
   "cell_type": "markdown",
   "id": "5fa908bd",
   "metadata": {},
   "source": [
    "$\\therefore P(\\theta _{max} = \\theta ) = n(n-1) \\frac{d\\theta}{2\\pi} (\\frac{\\theta}{2\\pi})^{n-2}$"
   ]
  },
  {
   "cell_type": "markdown",
   "id": "9e820101",
   "metadata": {},
   "source": [
    "$P(\\theta _{max}|\\leq\\pi) = \\int_{0}^{\\pi} n(n-1) \\frac{d\\theta}{2\\pi} (\\frac{\\theta}{2\\pi})^{n-2} = {n \\over {2\\pi}}[({\\theta \\over 2\\pi})^{n-1}]_0^{\\pi} = {n \\over 2^{n-1}}$"
   ]
  }
 ],
 "metadata": {
  "kernelspec": {
   "display_name": "base",
   "language": "python",
   "name": "python3"
  },
  "language_info": {
   "codemirror_mode": {
    "name": "ipython",
    "version": 3
   },
   "file_extension": ".py",
   "mimetype": "text/x-python",
   "name": "python",
   "nbconvert_exporter": "python",
   "pygments_lexer": "ipython3",
   "version": "3.8.8"
  },
  "vscode": {
   "interpreter": {
    "hash": "ad2bdc8ecc057115af97d19610ffacc2b4e99fae6737bb82f5d7fb13d2f2c186"
   }
  }
 },
 "nbformat": 4,
 "nbformat_minor": 5
}
